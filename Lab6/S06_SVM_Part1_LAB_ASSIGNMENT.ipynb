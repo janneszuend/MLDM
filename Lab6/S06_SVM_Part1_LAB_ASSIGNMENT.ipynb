{
 "cells": [
  {
   "cell_type": "markdown",
   "id": "0ec81e2d-db8a-497d-a85b-7f9ad0094899",
   "metadata": {
    "id": "0ec81e2d-db8a-497d-a85b-7f9ad0094899"
   },
   "source": [
    "# Support Vector Machines Part 1"
   ]
  },
  {
   "cell_type": "code",
   "execution_count": 32,
   "id": "0d7ff475-7289-44da-b100-a8bdf43b7d2e",
   "metadata": {
    "tags": [],
    "id": "0d7ff475-7289-44da-b100-a8bdf43b7d2e",
    "ExecuteTime": {
     "end_time": "2023-11-01T13:59:49.581383Z",
     "start_time": "2023-11-01T13:59:49.435455Z"
    }
   },
   "outputs": [],
   "source": [
    "%matplotlib inline\n",
    "import numpy as np\n",
    "import pandas as pd\n",
    "import matplotlib as mpl\n",
    "import matplotlib.pyplot as plt\n",
    "\n",
    "from sklearn import datasets\n",
    "from sklearn import svm\n",
    "from sklearn import preprocessing"
   ]
  },
  {
   "cell_type": "code",
   "execution_count": 33,
   "id": "8b0e851c-a81d-4814-a060-b9bd26da7f34",
   "metadata": {
    "tags": [],
    "id": "8b0e851c-a81d-4814-a060-b9bd26da7f34",
    "ExecuteTime": {
     "end_time": "2023-11-01T13:59:49.591535Z",
     "start_time": "2023-11-01T13:59:49.441045Z"
    }
   },
   "outputs": [],
   "source": [
    "%config InlineBackend.figure_formats = ['svg']\n",
    "\n",
    "plt.rc('font', size=14)\n",
    "plt.rc('axes', labelsize=14, titlesize=14)\n",
    "plt.rc('legend', fontsize=14)\n",
    "plt.rc('xtick', labelsize=10)\n",
    "plt.rc('ytick', labelsize=10)\n",
    "\n",
    "cmap= mpl.colors.ListedColormap(['red', 'black', 'blue'])"
   ]
  },
  {
   "cell_type": "markdown",
   "id": "920fe1cd-fd75-4b56-a47c-4317b990551a",
   "metadata": {
    "id": "920fe1cd-fd75-4b56-a47c-4317b990551a"
   },
   "source": [
    "## Task 1 Decision Boundary from a Maximal Margin Classifier (6 points)\n",
    "Let's create some synthetic data with two classes:"
   ]
  },
  {
   "cell_type": "code",
   "execution_count": 34,
   "id": "e76c7349-896a-4c70-9257-e08435f0c263",
   "metadata": {
    "tags": [],
    "id": "e76c7349-896a-4c70-9257-e08435f0c263",
    "ExecuteTime": {
     "end_time": "2023-11-01T13:59:49.660746Z",
     "start_time": "2023-11-01T13:59:49.447511Z"
    }
   },
   "outputs": [
    {
     "data": {
      "text/plain": "<Figure size 500x500 with 1 Axes>",
      "image/svg+xml": "<?xml version=\"1.0\" encoding=\"utf-8\" standalone=\"no\"?>\n<!DOCTYPE svg PUBLIC \"-//W3C//DTD SVG 1.1//EN\"\n  \"http://www.w3.org/Graphics/SVG/1.1/DTD/svg11.dtd\">\n<svg xmlns:xlink=\"http://www.w3.org/1999/xlink\" width=\"326.2475pt\" height=\"327.763125pt\" viewBox=\"0 0 326.2475 327.763125\" xmlns=\"http://www.w3.org/2000/svg\" version=\"1.1\">\n <metadata>\n  <rdf:RDF xmlns:dc=\"http://purl.org/dc/elements/1.1/\" xmlns:cc=\"http://creativecommons.org/ns#\" xmlns:rdf=\"http://www.w3.org/1999/02/22-rdf-syntax-ns#\">\n   <cc:Work>\n    <dc:type rdf:resource=\"http://purl.org/dc/dcmitype/StillImage\"/>\n    <dc:date>2023-11-01T14:59:49.489832</dc:date>\n    <dc:format>image/svg+xml</dc:format>\n    <dc:creator>\n     <cc:Agent>\n      <dc:title>Matplotlib v3.7.2, https://matplotlib.org/</dc:title>\n     </cc:Agent>\n    </dc:creator>\n   </cc:Work>\n  </rdf:RDF>\n </metadata>\n <defs>\n  <style type=\"text/css\">*{stroke-linejoin: round; stroke-linecap: butt}</style>\n </defs>\n <g id=\"figure_1\">\n  <g id=\"patch_1\">\n   <path d=\"M 0 327.763125 \nL 326.2475 327.763125 \nL 326.2475 0 \nL 0 0 \nz\n\" style=\"fill: #ffffff\"/>\n  </g>\n  <g id=\"axes_1\">\n   <g id=\"patch_2\">\n    <path d=\"M 40.0475 284.4 \nL 319.0475 284.4 \nL 319.0475 7.2 \nL 40.0475 7.2 \nz\n\" style=\"fill: #ffffff\"/>\n   </g>\n   <g id=\"PathCollection_1\">\n    <defs>\n     <path id=\"C0_0_3c5f7d4d2a\" d=\"M 0 3.535534 \nC 0.937635 3.535534 1.836992 3.163008 2.5 2.5 \nC 3.163008 1.836992 3.535534 0.937635 3.535534 -0 \nC 3.535534 -0.937635 3.163008 -1.836992 2.5 -2.5 \nC 1.836992 -3.163008 0.937635 -3.535534 0 -3.535534 \nC -0.937635 -3.535534 -1.836992 -3.163008 -2.5 -2.5 \nC -3.163008 -1.836992 -3.535534 -0.937635 -3.535534 0 \nC -3.535534 0.937635 -3.163008 1.836992 -2.5 2.5 \nC -1.836992 3.163008 -0.937635 3.535534 0 3.535534 \nz\n\"/>\n    </defs>\n    <g clip-path=\"url(#p6e5acd3042)\">\n     <use xlink:href=\"#C0_0_3c5f7d4d2a\" x=\"186.1923\" y=\"196.8855\" style=\"fill: #0000ff; stroke: #0000ff\"/>\n    </g>\n    <g clip-path=\"url(#p6e5acd3042)\">\n     <use xlink:href=\"#C0_0_3c5f7d4d2a\" x=\"213.351221\" y=\"192.359667\" style=\"fill: #0000ff; stroke: #0000ff\"/>\n    </g>\n    <g clip-path=\"url(#p6e5acd3042)\">\n     <use xlink:href=\"#C0_0_3c5f7d4d2a\" x=\"187.553602\" y=\"69.076962\" style=\"fill: #ff0000; stroke: #ff0000\"/>\n    </g>\n    <g clip-path=\"url(#p6e5acd3042)\">\n     <use xlink:href=\"#C0_0_3c5f7d4d2a\" x=\"217.375857\" y=\"77.882029\" style=\"fill: #ff0000; stroke: #ff0000\"/>\n    </g>\n    <g clip-path=\"url(#p6e5acd3042)\">\n     <use xlink:href=\"#C0_0_3c5f7d4d2a\" x=\"232.459746\" y=\"217.144247\" style=\"fill: #0000ff; stroke: #0000ff\"/>\n    </g>\n    <g clip-path=\"url(#p6e5acd3042)\">\n     <use xlink:href=\"#C0_0_3c5f7d4d2a\" x=\"276.107767\" y=\"258.559886\" style=\"fill: #0000ff; stroke: #0000ff\"/>\n    </g>\n    <g clip-path=\"url(#p6e5acd3042)\">\n     <use xlink:href=\"#C0_0_3c5f7d4d2a\" x=\"306.365682\" y=\"261.602369\" style=\"fill: #0000ff; stroke: #0000ff\"/>\n    </g>\n    <g clip-path=\"url(#p6e5acd3042)\">\n     <use xlink:href=\"#C0_0_3c5f7d4d2a\" x=\"230.180803\" y=\"177.180679\" style=\"fill: #0000ff; stroke: #0000ff\"/>\n    </g>\n    <g clip-path=\"url(#p6e5acd3042)\">\n     <use xlink:href=\"#C0_0_3c5f7d4d2a\" x=\"228.607097\" y=\"213.75351\" style=\"fill: #0000ff; stroke: #0000ff\"/>\n    </g>\n    <g clip-path=\"url(#p6e5acd3042)\">\n     <use xlink:href=\"#C0_0_3c5f7d4d2a\" x=\"87.176336\" y=\"19.8\" style=\"fill: #ff0000; stroke: #ff0000\"/>\n    </g>\n    <g clip-path=\"url(#p6e5acd3042)\">\n     <use xlink:href=\"#C0_0_3c5f7d4d2a\" x=\"206.644177\" y=\"39.962184\" style=\"fill: #ff0000; stroke: #ff0000\"/>\n    </g>\n    <g clip-path=\"url(#p6e5acd3042)\">\n     <use xlink:href=\"#C0_0_3c5f7d4d2a\" x=\"105.625012\" y=\"51.408939\" style=\"fill: #ff0000; stroke: #ff0000\"/>\n    </g>\n    <g clip-path=\"url(#p6e5acd3042)\">\n     <use xlink:href=\"#C0_0_3c5f7d4d2a\" x=\"162.896085\" y=\"62.167049\" style=\"fill: #ff0000; stroke: #ff0000\"/>\n    </g>\n    <g clip-path=\"url(#p6e5acd3042)\">\n     <use xlink:href=\"#C0_0_3c5f7d4d2a\" x=\"194.32707\" y=\"240.88753\" style=\"fill: #0000ff; stroke: #0000ff\"/>\n    </g>\n    <g clip-path=\"url(#p6e5acd3042)\">\n     <use xlink:href=\"#C0_0_3c5f7d4d2a\" x=\"191.760152\" y=\"92.349284\" style=\"fill: #ff0000; stroke: #ff0000\"/>\n    </g>\n    <g clip-path=\"url(#p6e5acd3042)\">\n     <use xlink:href=\"#C0_0_3c5f7d4d2a\" x=\"169.328878\" y=\"95.364759\" style=\"fill: #ff0000; stroke: #ff0000\"/>\n    </g>\n    <g clip-path=\"url(#p6e5acd3042)\">\n     <use xlink:href=\"#C0_0_3c5f7d4d2a\" x=\"140.834791\" y=\"80.499155\" style=\"fill: #ff0000; stroke: #ff0000\"/>\n    </g>\n    <g clip-path=\"url(#p6e5acd3042)\">\n     <use xlink:href=\"#C0_0_3c5f7d4d2a\" x=\"246.122061\" y=\"243.742162\" style=\"fill: #0000ff; stroke: #0000ff\"/>\n    </g>\n    <g clip-path=\"url(#p6e5acd3042)\">\n     <use xlink:href=\"#C0_0_3c5f7d4d2a\" x=\"120.474665\" y=\"125.718692\" style=\"fill: #ff0000; stroke: #ff0000\"/>\n    </g>\n    <g clip-path=\"url(#p6e5acd3042)\">\n     <use xlink:href=\"#C0_0_3c5f7d4d2a\" x=\"152.393129\" y=\"61.293206\" style=\"fill: #ff0000; stroke: #ff0000\"/>\n    </g>\n    <g clip-path=\"url(#p6e5acd3042)\">\n     <use xlink:href=\"#C0_0_3c5f7d4d2a\" x=\"203.947563\" y=\"235.06545\" style=\"fill: #0000ff; stroke: #0000ff\"/>\n    </g>\n    <g clip-path=\"url(#p6e5acd3042)\">\n     <use xlink:href=\"#C0_0_3c5f7d4d2a\" x=\"244.251654\" y=\"206.257538\" style=\"fill: #0000ff; stroke: #0000ff\"/>\n    </g>\n    <g clip-path=\"url(#p6e5acd3042)\">\n     <use xlink:href=\"#C0_0_3c5f7d4d2a\" x=\"192.842094\" y=\"223.893567\" style=\"fill: #0000ff; stroke: #0000ff\"/>\n    </g>\n    <g clip-path=\"url(#p6e5acd3042)\">\n     <use xlink:href=\"#C0_0_3c5f7d4d2a\" x=\"202.395984\" y=\"234.979563\" style=\"fill: #0000ff; stroke: #0000ff\"/>\n    </g>\n    <g clip-path=\"url(#p6e5acd3042)\">\n     <use xlink:href=\"#C0_0_3c5f7d4d2a\" x=\"259.415157\" y=\"221.818135\" style=\"fill: #0000ff; stroke: #0000ff\"/>\n    </g>\n    <g clip-path=\"url(#p6e5acd3042)\">\n     <use xlink:href=\"#C0_0_3c5f7d4d2a\" x=\"248.932595\" y=\"111.536359\" style=\"fill: #ff0000; stroke: #ff0000\"/>\n    </g>\n    <g clip-path=\"url(#p6e5acd3042)\">\n     <use xlink:href=\"#C0_0_3c5f7d4d2a\" x=\"135.858239\" y=\"84.156915\" style=\"fill: #ff0000; stroke: #ff0000\"/>\n    </g>\n    <g clip-path=\"url(#p6e5acd3042)\">\n     <use xlink:href=\"#C0_0_3c5f7d4d2a\" x=\"52.729318\" y=\"54.746112\" style=\"fill: #ff0000; stroke: #ff0000\"/>\n    </g>\n    <g clip-path=\"url(#p6e5acd3042)\">\n     <use xlink:href=\"#C0_0_3c5f7d4d2a\" x=\"236.971844\" y=\"236.117202\" style=\"fill: #0000ff; stroke: #0000ff\"/>\n    </g>\n    <g clip-path=\"url(#p6e5acd3042)\">\n     <use xlink:href=\"#C0_0_3c5f7d4d2a\" x=\"232.570066\" y=\"98.683353\" style=\"fill: #ff0000; stroke: #ff0000\"/>\n    </g>\n    <g clip-path=\"url(#p6e5acd3042)\">\n     <use xlink:href=\"#C0_0_3c5f7d4d2a\" x=\"238.226864\" y=\"198.981816\" style=\"fill: #0000ff; stroke: #0000ff\"/>\n    </g>\n    <g clip-path=\"url(#p6e5acd3042)\">\n     <use xlink:href=\"#C0_0_3c5f7d4d2a\" x=\"120.162187\" y=\"61.931589\" style=\"fill: #ff0000; stroke: #ff0000\"/>\n    </g>\n    <g clip-path=\"url(#p6e5acd3042)\">\n     <use xlink:href=\"#C0_0_3c5f7d4d2a\" x=\"174.65002\" y=\"63.365585\" style=\"fill: #ff0000; stroke: #ff0000\"/>\n    </g>\n    <g clip-path=\"url(#p6e5acd3042)\">\n     <use xlink:href=\"#C0_0_3c5f7d4d2a\" x=\"90.934312\" y=\"78.086293\" style=\"fill: #ff0000; stroke: #ff0000\"/>\n    </g>\n    <g clip-path=\"url(#p6e5acd3042)\">\n     <use xlink:href=\"#C0_0_3c5f7d4d2a\" x=\"218.950291\" y=\"32.769627\" style=\"fill: #ff0000; stroke: #ff0000\"/>\n    </g>\n    <g clip-path=\"url(#p6e5acd3042)\">\n     <use xlink:href=\"#C0_0_3c5f7d4d2a\" x=\"217.078768\" y=\"223.77988\" style=\"fill: #0000ff; stroke: #0000ff\"/>\n    </g>\n    <g clip-path=\"url(#p6e5acd3042)\">\n     <use xlink:href=\"#C0_0_3c5f7d4d2a\" x=\"234.916785\" y=\"214.463192\" style=\"fill: #0000ff; stroke: #0000ff\"/>\n    </g>\n    <g clip-path=\"url(#p6e5acd3042)\">\n     <use xlink:href=\"#C0_0_3c5f7d4d2a\" x=\"162.452484\" y=\"33.176032\" style=\"fill: #ff0000; stroke: #ff0000\"/>\n    </g>\n    <g clip-path=\"url(#p6e5acd3042)\">\n     <use xlink:href=\"#C0_0_3c5f7d4d2a\" x=\"248.698135\" y=\"266.680248\" style=\"fill: #0000ff; stroke: #0000ff\"/>\n    </g>\n    <g clip-path=\"url(#p6e5acd3042)\">\n     <use xlink:href=\"#C0_0_3c5f7d4d2a\" x=\"135.811333\" y=\"104.161829\" style=\"fill: #ff0000; stroke: #ff0000\"/>\n    </g>\n    <g clip-path=\"url(#p6e5acd3042)\">\n     <use xlink:href=\"#C0_0_3c5f7d4d2a\" x=\"163.43242\" y=\"212.825398\" style=\"fill: #0000ff; stroke: #0000ff\"/>\n    </g>\n    <g clip-path=\"url(#p6e5acd3042)\">\n     <use xlink:href=\"#C0_0_3c5f7d4d2a\" x=\"195.244734\" y=\"76.4326\" style=\"fill: #ff0000; stroke: #ff0000\"/>\n    </g>\n    <g clip-path=\"url(#p6e5acd3042)\">\n     <use xlink:href=\"#C0_0_3c5f7d4d2a\" x=\"196.672475\" y=\"271.8\" style=\"fill: #0000ff; stroke: #0000ff\"/>\n    </g>\n    <g clip-path=\"url(#p6e5acd3042)\">\n     <use xlink:href=\"#C0_0_3c5f7d4d2a\" x=\"182.351946\" y=\"201.024247\" style=\"fill: #0000ff; stroke: #0000ff\"/>\n    </g>\n    <g clip-path=\"url(#p6e5acd3042)\">\n     <use xlink:href=\"#C0_0_3c5f7d4d2a\" x=\"158.453962\" y=\"77.397789\" style=\"fill: #ff0000; stroke: #ff0000\"/>\n    </g>\n    <g clip-path=\"url(#p6e5acd3042)\">\n     <use xlink:href=\"#C0_0_3c5f7d4d2a\" x=\"178.066605\" y=\"199.176928\" style=\"fill: #0000ff; stroke: #0000ff\"/>\n    </g>\n    <g clip-path=\"url(#p6e5acd3042)\">\n     <use xlink:href=\"#C0_0_3c5f7d4d2a\" x=\"290.300062\" y=\"174.216716\" style=\"fill: #0000ff; stroke: #0000ff\"/>\n    </g>\n    <g clip-path=\"url(#p6e5acd3042)\">\n     <use xlink:href=\"#C0_0_3c5f7d4d2a\" x=\"113.934187\" y=\"110.611012\" style=\"fill: #ff0000; stroke: #ff0000\"/>\n    </g>\n    <g clip-path=\"url(#p6e5acd3042)\">\n     <use xlink:href=\"#C0_0_3c5f7d4d2a\" x=\"277.709815\" y=\"230.140278\" style=\"fill: #0000ff; stroke: #0000ff\"/>\n    </g>\n    <g clip-path=\"url(#p6e5acd3042)\">\n     <use xlink:href=\"#C0_0_3c5f7d4d2a\" x=\"142.438294\" y=\"68.142827\" style=\"fill: #ff0000; stroke: #ff0000\"/>\n    </g>\n   </g>\n   <g id=\"matplotlib.axis_1\">\n    <g id=\"xtick_1\">\n     <g id=\"line2d_1\">\n      <defs>\n       <path id=\"maec6b7cc0c\" d=\"M 0 0 \nL 0 3.5 \n\" style=\"stroke: #000000; stroke-width: 0.8\"/>\n      </defs>\n      <g>\n       <use xlink:href=\"#maec6b7cc0c\" x=\"56.494102\" y=\"284.4\" style=\"stroke: #000000; stroke-width: 0.8\"/>\n      </g>\n     </g>\n     <g id=\"text_1\">\n      <!-- −0.5 -->\n      <g transform=\"translate(44.352696 298.998438) scale(0.1 -0.1)\">\n       <defs>\n        <path id=\"DejaVuSans-2212\" d=\"M 678 2272 \nL 4684 2272 \nL 4684 1741 \nL 678 1741 \nL 678 2272 \nz\n\" transform=\"scale(0.015625)\"/>\n        <path id=\"DejaVuSans-30\" d=\"M 2034 4250 \nQ 1547 4250 1301 3770 \nQ 1056 3291 1056 2328 \nQ 1056 1369 1301 889 \nQ 1547 409 2034 409 \nQ 2525 409 2770 889 \nQ 3016 1369 3016 2328 \nQ 3016 3291 2770 3770 \nQ 2525 4250 2034 4250 \nz\nM 2034 4750 \nQ 2819 4750 3233 4129 \nQ 3647 3509 3647 2328 \nQ 3647 1150 3233 529 \nQ 2819 -91 2034 -91 \nQ 1250 -91 836 529 \nQ 422 1150 422 2328 \nQ 422 3509 836 4129 \nQ 1250 4750 2034 4750 \nz\n\" transform=\"scale(0.015625)\"/>\n        <path id=\"DejaVuSans-2e\" d=\"M 684 794 \nL 1344 794 \nL 1344 0 \nL 684 0 \nL 684 794 \nz\n\" transform=\"scale(0.015625)\"/>\n        <path id=\"DejaVuSans-35\" d=\"M 691 4666 \nL 3169 4666 \nL 3169 4134 \nL 1269 4134 \nL 1269 2991 \nQ 1406 3038 1543 3061 \nQ 1681 3084 1819 3084 \nQ 2600 3084 3056 2656 \nQ 3513 2228 3513 1497 \nQ 3513 744 3044 326 \nQ 2575 -91 1722 -91 \nQ 1428 -91 1123 -41 \nQ 819 9 494 109 \nL 494 744 \nQ 775 591 1075 516 \nQ 1375 441 1709 441 \nQ 2250 441 2565 725 \nQ 2881 1009 2881 1497 \nQ 2881 1984 2565 2268 \nQ 2250 2553 1709 2553 \nQ 1456 2553 1204 2497 \nQ 953 2441 691 2322 \nL 691 4666 \nz\n\" transform=\"scale(0.015625)\"/>\n       </defs>\n       <use xlink:href=\"#DejaVuSans-2212\"/>\n       <use xlink:href=\"#DejaVuSans-30\" x=\"83.789062\"/>\n       <use xlink:href=\"#DejaVuSans-2e\" x=\"147.412109\"/>\n       <use xlink:href=\"#DejaVuSans-35\" x=\"179.199219\"/>\n      </g>\n     </g>\n    </g>\n    <g id=\"xtick_2\">\n     <g id=\"line2d_2\">\n      <g>\n       <use xlink:href=\"#maec6b7cc0c\" x=\"90.396527\" y=\"284.4\" style=\"stroke: #000000; stroke-width: 0.8\"/>\n      </g>\n     </g>\n     <g id=\"text_2\">\n      <!-- 0.0 -->\n      <g transform=\"translate(82.444964 298.998438) scale(0.1 -0.1)\">\n       <use xlink:href=\"#DejaVuSans-30\"/>\n       <use xlink:href=\"#DejaVuSans-2e\" x=\"63.623047\"/>\n       <use xlink:href=\"#DejaVuSans-30\" x=\"95.410156\"/>\n      </g>\n     </g>\n    </g>\n    <g id=\"xtick_3\">\n     <g id=\"line2d_3\">\n      <g>\n       <use xlink:href=\"#maec6b7cc0c\" x=\"124.298951\" y=\"284.4\" style=\"stroke: #000000; stroke-width: 0.8\"/>\n      </g>\n     </g>\n     <g id=\"text_3\">\n      <!-- 0.5 -->\n      <g transform=\"translate(116.347389 298.998438) scale(0.1 -0.1)\">\n       <use xlink:href=\"#DejaVuSans-30\"/>\n       <use xlink:href=\"#DejaVuSans-2e\" x=\"63.623047\"/>\n       <use xlink:href=\"#DejaVuSans-35\" x=\"95.410156\"/>\n      </g>\n     </g>\n    </g>\n    <g id=\"xtick_4\">\n     <g id=\"line2d_4\">\n      <g>\n       <use xlink:href=\"#maec6b7cc0c\" x=\"158.201376\" y=\"284.4\" style=\"stroke: #000000; stroke-width: 0.8\"/>\n      </g>\n     </g>\n     <g id=\"text_4\">\n      <!-- 1.0 -->\n      <g transform=\"translate(150.249814 298.998438) scale(0.1 -0.1)\">\n       <defs>\n        <path id=\"DejaVuSans-31\" d=\"M 794 531 \nL 1825 531 \nL 1825 4091 \nL 703 3866 \nL 703 4441 \nL 1819 4666 \nL 2450 4666 \nL 2450 531 \nL 3481 531 \nL 3481 0 \nL 794 0 \nL 794 531 \nz\n\" transform=\"scale(0.015625)\"/>\n       </defs>\n       <use xlink:href=\"#DejaVuSans-31\"/>\n       <use xlink:href=\"#DejaVuSans-2e\" x=\"63.623047\"/>\n       <use xlink:href=\"#DejaVuSans-30\" x=\"95.410156\"/>\n      </g>\n     </g>\n    </g>\n    <g id=\"xtick_5\">\n     <g id=\"line2d_5\">\n      <g>\n       <use xlink:href=\"#maec6b7cc0c\" x=\"192.103801\" y=\"284.4\" style=\"stroke: #000000; stroke-width: 0.8\"/>\n      </g>\n     </g>\n     <g id=\"text_5\">\n      <!-- 1.5 -->\n      <g transform=\"translate(184.152239 298.998438) scale(0.1 -0.1)\">\n       <use xlink:href=\"#DejaVuSans-31\"/>\n       <use xlink:href=\"#DejaVuSans-2e\" x=\"63.623047\"/>\n       <use xlink:href=\"#DejaVuSans-35\" x=\"95.410156\"/>\n      </g>\n     </g>\n    </g>\n    <g id=\"xtick_6\">\n     <g id=\"line2d_6\">\n      <g>\n       <use xlink:href=\"#maec6b7cc0c\" x=\"226.006226\" y=\"284.4\" style=\"stroke: #000000; stroke-width: 0.8\"/>\n      </g>\n     </g>\n     <g id=\"text_6\">\n      <!-- 2.0 -->\n      <g transform=\"translate(218.054663 298.998438) scale(0.1 -0.1)\">\n       <defs>\n        <path id=\"DejaVuSans-32\" d=\"M 1228 531 \nL 3431 531 \nL 3431 0 \nL 469 0 \nL 469 531 \nQ 828 903 1448 1529 \nQ 2069 2156 2228 2338 \nQ 2531 2678 2651 2914 \nQ 2772 3150 2772 3378 \nQ 2772 3750 2511 3984 \nQ 2250 4219 1831 4219 \nQ 1534 4219 1204 4116 \nQ 875 4013 500 3803 \nL 500 4441 \nQ 881 4594 1212 4672 \nQ 1544 4750 1819 4750 \nQ 2544 4750 2975 4387 \nQ 3406 4025 3406 3419 \nQ 3406 3131 3298 2873 \nQ 3191 2616 2906 2266 \nQ 2828 2175 2409 1742 \nQ 1991 1309 1228 531 \nz\n\" transform=\"scale(0.015625)\"/>\n       </defs>\n       <use xlink:href=\"#DejaVuSans-32\"/>\n       <use xlink:href=\"#DejaVuSans-2e\" x=\"63.623047\"/>\n       <use xlink:href=\"#DejaVuSans-30\" x=\"95.410156\"/>\n      </g>\n     </g>\n    </g>\n    <g id=\"xtick_7\">\n     <g id=\"line2d_7\">\n      <g>\n       <use xlink:href=\"#maec6b7cc0c\" x=\"259.908651\" y=\"284.4\" style=\"stroke: #000000; stroke-width: 0.8\"/>\n      </g>\n     </g>\n     <g id=\"text_7\">\n      <!-- 2.5 -->\n      <g transform=\"translate(251.957088 298.998438) scale(0.1 -0.1)\">\n       <use xlink:href=\"#DejaVuSans-32\"/>\n       <use xlink:href=\"#DejaVuSans-2e\" x=\"63.623047\"/>\n       <use xlink:href=\"#DejaVuSans-35\" x=\"95.410156\"/>\n      </g>\n     </g>\n    </g>\n    <g id=\"xtick_8\">\n     <g id=\"line2d_8\">\n      <g>\n       <use xlink:href=\"#maec6b7cc0c\" x=\"293.811076\" y=\"284.4\" style=\"stroke: #000000; stroke-width: 0.8\"/>\n      </g>\n     </g>\n     <g id=\"text_8\">\n      <!-- 3.0 -->\n      <g transform=\"translate(285.859513 298.998438) scale(0.1 -0.1)\">\n       <defs>\n        <path id=\"DejaVuSans-33\" d=\"M 2597 2516 \nQ 3050 2419 3304 2112 \nQ 3559 1806 3559 1356 \nQ 3559 666 3084 287 \nQ 2609 -91 1734 -91 \nQ 1441 -91 1130 -33 \nQ 819 25 488 141 \nL 488 750 \nQ 750 597 1062 519 \nQ 1375 441 1716 441 \nQ 2309 441 2620 675 \nQ 2931 909 2931 1356 \nQ 2931 1769 2642 2001 \nQ 2353 2234 1838 2234 \nL 1294 2234 \nL 1294 2753 \nL 1863 2753 \nQ 2328 2753 2575 2939 \nQ 2822 3125 2822 3475 \nQ 2822 3834 2567 4026 \nQ 2313 4219 1838 4219 \nQ 1578 4219 1281 4162 \nQ 984 4106 628 3988 \nL 628 4550 \nQ 988 4650 1302 4700 \nQ 1616 4750 1894 4750 \nQ 2613 4750 3031 4423 \nQ 3450 4097 3450 3541 \nQ 3450 3153 3228 2886 \nQ 3006 2619 2597 2516 \nz\n\" transform=\"scale(0.015625)\"/>\n       </defs>\n       <use xlink:href=\"#DejaVuSans-33\"/>\n       <use xlink:href=\"#DejaVuSans-2e\" x=\"63.623047\"/>\n       <use xlink:href=\"#DejaVuSans-30\" x=\"95.410156\"/>\n      </g>\n     </g>\n    </g>\n    <g id=\"text_9\">\n     <!-- $x_1$ -->\n     <g transform=\"translate(170.9875 317.235625) scale(0.16 -0.16)\">\n      <defs>\n       <path id=\"DejaVuSans-Oblique-78\" d=\"M 3841 3500 \nL 2234 1784 \nL 3219 0 \nL 2559 0 \nL 1819 1388 \nL 531 0 \nL -166 0 \nL 1556 1844 \nL 641 3500 \nL 1300 3500 \nL 1972 2234 \nL 3144 3500 \nL 3841 3500 \nz\n\" transform=\"scale(0.015625)\"/>\n      </defs>\n      <use xlink:href=\"#DejaVuSans-Oblique-78\" transform=\"translate(0 0.3125)\"/>\n      <use xlink:href=\"#DejaVuSans-31\" transform=\"translate(59.179688 -16.09375) scale(0.7)\"/>\n     </g>\n    </g>\n   </g>\n   <g id=\"matplotlib.axis_2\">\n    <g id=\"ytick_1\">\n     <g id=\"line2d_9\">\n      <defs>\n       <path id=\"mf9b2ac6deb\" d=\"M 0 0 \nL -3.5 0 \n\" style=\"stroke: #000000; stroke-width: 0.8\"/>\n      </defs>\n      <g>\n       <use xlink:href=\"#mf9b2ac6deb\" x=\"40.0475\" y=\"265.598919\" style=\"stroke: #000000; stroke-width: 0.8\"/>\n      </g>\n     </g>\n     <g id=\"text_10\">\n      <!-- 0 -->\n      <g transform=\"translate(26.685 269.398138) scale(0.1 -0.1)\">\n       <use xlink:href=\"#DejaVuSans-30\"/>\n      </g>\n     </g>\n    </g>\n    <g id=\"ytick_2\">\n     <g id=\"line2d_10\">\n      <g>\n       <use xlink:href=\"#mf9b2ac6deb\" x=\"40.0475\" y=\"220.69801\" style=\"stroke: #000000; stroke-width: 0.8\"/>\n      </g>\n     </g>\n     <g id=\"text_11\">\n      <!-- 1 -->\n      <g transform=\"translate(26.685 224.497229) scale(0.1 -0.1)\">\n       <use xlink:href=\"#DejaVuSans-31\"/>\n      </g>\n     </g>\n    </g>\n    <g id=\"ytick_3\">\n     <g id=\"line2d_11\">\n      <g>\n       <use xlink:href=\"#mf9b2ac6deb\" x=\"40.0475\" y=\"175.7971\" style=\"stroke: #000000; stroke-width: 0.8\"/>\n      </g>\n     </g>\n     <g id=\"text_12\">\n      <!-- 2 -->\n      <g transform=\"translate(26.685 179.596319) scale(0.1 -0.1)\">\n       <use xlink:href=\"#DejaVuSans-32\"/>\n      </g>\n     </g>\n    </g>\n    <g id=\"ytick_4\">\n     <g id=\"line2d_12\">\n      <g>\n       <use xlink:href=\"#mf9b2ac6deb\" x=\"40.0475\" y=\"130.896191\" style=\"stroke: #000000; stroke-width: 0.8\"/>\n      </g>\n     </g>\n     <g id=\"text_13\">\n      <!-- 3 -->\n      <g transform=\"translate(26.685 134.695409) scale(0.1 -0.1)\">\n       <use xlink:href=\"#DejaVuSans-33\"/>\n      </g>\n     </g>\n    </g>\n    <g id=\"ytick_5\">\n     <g id=\"line2d_13\">\n      <g>\n       <use xlink:href=\"#mf9b2ac6deb\" x=\"40.0475\" y=\"85.995281\" style=\"stroke: #000000; stroke-width: 0.8\"/>\n      </g>\n     </g>\n     <g id=\"text_14\">\n      <!-- 4 -->\n      <g transform=\"translate(26.685 89.7945) scale(0.1 -0.1)\">\n       <defs>\n        <path id=\"DejaVuSans-34\" d=\"M 2419 4116 \nL 825 1625 \nL 2419 1625 \nL 2419 4116 \nz\nM 2253 4666 \nL 3047 4666 \nL 3047 1625 \nL 3713 1625 \nL 3713 1100 \nL 3047 1100 \nL 3047 0 \nL 2419 0 \nL 2419 1100 \nL 313 1100 \nL 313 1709 \nL 2253 4666 \nz\n\" transform=\"scale(0.015625)\"/>\n       </defs>\n       <use xlink:href=\"#DejaVuSans-34\"/>\n      </g>\n     </g>\n    </g>\n    <g id=\"ytick_6\">\n     <g id=\"line2d_14\">\n      <g>\n       <use xlink:href=\"#mf9b2ac6deb\" x=\"40.0475\" y=\"41.094372\" style=\"stroke: #000000; stroke-width: 0.8\"/>\n      </g>\n     </g>\n     <g id=\"text_15\">\n      <!-- 5 -->\n      <g transform=\"translate(26.685 44.89359) scale(0.1 -0.1)\">\n       <use xlink:href=\"#DejaVuSans-35\"/>\n      </g>\n     </g>\n    </g>\n    <g id=\"text_16\">\n     <!-- $x_2$ -->\n     <g transform=\"translate(19.3575 154.36) rotate(-90) scale(0.16 -0.16)\">\n      <use xlink:href=\"#DejaVuSans-Oblique-78\" transform=\"translate(0 0.3125)\"/>\n      <use xlink:href=\"#DejaVuSans-32\" transform=\"translate(59.179688 -16.09375) scale(0.7)\"/>\n     </g>\n    </g>\n   </g>\n   <g id=\"patch_3\">\n    <path d=\"M 40.0475 284.4 \nL 40.0475 7.2 \n\" style=\"fill: none; stroke: #000000; stroke-width: 0.8; stroke-linejoin: miter; stroke-linecap: square\"/>\n   </g>\n   <g id=\"patch_4\">\n    <path d=\"M 319.0475 284.4 \nL 319.0475 7.2 \n\" style=\"fill: none; stroke: #000000; stroke-width: 0.8; stroke-linejoin: miter; stroke-linecap: square\"/>\n   </g>\n   <g id=\"patch_5\">\n    <path d=\"M 40.0475 284.4 \nL 319.0475 284.4 \n\" style=\"fill: none; stroke: #000000; stroke-width: 0.8; stroke-linejoin: miter; stroke-linecap: square\"/>\n   </g>\n   <g id=\"patch_6\">\n    <path d=\"M 40.0475 7.2 \nL 319.0475 7.2 \n\" style=\"fill: none; stroke: #000000; stroke-width: 0.8; stroke-linejoin: miter; stroke-linecap: square\"/>\n   </g>\n  </g>\n </g>\n <defs>\n  <clipPath id=\"p6e5acd3042\">\n   <rect x=\"40.0475\" y=\"7.2\" width=\"279\" height=\"277.2\"/>\n  </clipPath>\n </defs>\n</svg>\n"
     },
     "metadata": {},
     "output_type": "display_data"
    }
   ],
   "source": [
    "X, y = datasets.make_blobs(n_samples=50, centers=2,\n",
    "                  random_state=0, cluster_std=0.60)\n",
    "\n",
    "y[np.where(y==0)] = -1\n",
    "\n",
    "fig, ax = plt.subplots(figsize=(5, 5))\n",
    "ax.scatter(X[:, 0], X[:, 1], c=y, s=50, cmap=cmap)\n",
    "\n",
    "ax.set_xlabel(r'$x_1$', fontsize=16)\n",
    "ax.set_ylabel(r'$x_2$', fontsize=16)\n",
    "\n",
    "plt.show()"
   ]
  },
  {
   "cell_type": "markdown",
   "id": "43d2da5f-b77c-4a21-a432-a32c2b43f863",
   "metadata": {
    "id": "43d2da5f-b77c-4a21-a432-a32c2b43f863"
   },
   "source": [
    "In this task we will use the `SVC` model of `sklearn.svm` with a `kernel=linear` and large parameter `C`. `sklearn`'s module `svm` has implementations of several Support Vector Machine algorithms. Some are meant to solve Regression, some - Classification problems. `LinearSVC` stands for Linear Support Vector Classification which is exactly what we need in order to solve the maximal margin classification problem. However, `svm.SVC` offers more flexibility in order to extract the learned parameters etc."
   ]
  },
  {
   "cell_type": "code",
   "execution_count": 35,
   "id": "23ebbb6a-3e34-42de-86bc-40bb56dee0f9",
   "metadata": {
    "tags": [],
    "id": "23ebbb6a-3e34-42de-86bc-40bb56dee0f9",
    "ExecuteTime": {
     "end_time": "2023-11-01T13:59:49.665171Z",
     "start_time": "2023-11-01T13:59:49.509425Z"
    }
   },
   "outputs": [
    {
     "data": {
      "text/plain": "SVC(C=1000, kernel='linear', tol=0.0001)",
      "text/html": "<style>#sk-container-id-3 {color: black;}#sk-container-id-3 pre{padding: 0;}#sk-container-id-3 div.sk-toggleable {background-color: white;}#sk-container-id-3 label.sk-toggleable__label {cursor: pointer;display: block;width: 100%;margin-bottom: 0;padding: 0.3em;box-sizing: border-box;text-align: center;}#sk-container-id-3 label.sk-toggleable__label-arrow:before {content: \"▸\";float: left;margin-right: 0.25em;color: #696969;}#sk-container-id-3 label.sk-toggleable__label-arrow:hover:before {color: black;}#sk-container-id-3 div.sk-estimator:hover label.sk-toggleable__label-arrow:before {color: black;}#sk-container-id-3 div.sk-toggleable__content {max-height: 0;max-width: 0;overflow: hidden;text-align: left;background-color: #f0f8ff;}#sk-container-id-3 div.sk-toggleable__content pre {margin: 0.2em;color: black;border-radius: 0.25em;background-color: #f0f8ff;}#sk-container-id-3 input.sk-toggleable__control:checked~div.sk-toggleable__content {max-height: 200px;max-width: 100%;overflow: auto;}#sk-container-id-3 input.sk-toggleable__control:checked~label.sk-toggleable__label-arrow:before {content: \"▾\";}#sk-container-id-3 div.sk-estimator input.sk-toggleable__control:checked~label.sk-toggleable__label {background-color: #d4ebff;}#sk-container-id-3 div.sk-label input.sk-toggleable__control:checked~label.sk-toggleable__label {background-color: #d4ebff;}#sk-container-id-3 input.sk-hidden--visually {border: 0;clip: rect(1px 1px 1px 1px);clip: rect(1px, 1px, 1px, 1px);height: 1px;margin: -1px;overflow: hidden;padding: 0;position: absolute;width: 1px;}#sk-container-id-3 div.sk-estimator {font-family: monospace;background-color: #f0f8ff;border: 1px dotted black;border-radius: 0.25em;box-sizing: border-box;margin-bottom: 0.5em;}#sk-container-id-3 div.sk-estimator:hover {background-color: #d4ebff;}#sk-container-id-3 div.sk-parallel-item::after {content: \"\";width: 100%;border-bottom: 1px solid gray;flex-grow: 1;}#sk-container-id-3 div.sk-label:hover label.sk-toggleable__label {background-color: #d4ebff;}#sk-container-id-3 div.sk-serial::before {content: \"\";position: absolute;border-left: 1px solid gray;box-sizing: border-box;top: 0;bottom: 0;left: 50%;z-index: 0;}#sk-container-id-3 div.sk-serial {display: flex;flex-direction: column;align-items: center;background-color: white;padding-right: 0.2em;padding-left: 0.2em;position: relative;}#sk-container-id-3 div.sk-item {position: relative;z-index: 1;}#sk-container-id-3 div.sk-parallel {display: flex;align-items: stretch;justify-content: center;background-color: white;position: relative;}#sk-container-id-3 div.sk-item::before, #sk-container-id-3 div.sk-parallel-item::before {content: \"\";position: absolute;border-left: 1px solid gray;box-sizing: border-box;top: 0;bottom: 0;left: 50%;z-index: -1;}#sk-container-id-3 div.sk-parallel-item {display: flex;flex-direction: column;z-index: 1;position: relative;background-color: white;}#sk-container-id-3 div.sk-parallel-item:first-child::after {align-self: flex-end;width: 50%;}#sk-container-id-3 div.sk-parallel-item:last-child::after {align-self: flex-start;width: 50%;}#sk-container-id-3 div.sk-parallel-item:only-child::after {width: 0;}#sk-container-id-3 div.sk-dashed-wrapped {border: 1px dashed gray;margin: 0 0.4em 0.5em 0.4em;box-sizing: border-box;padding-bottom: 0.4em;background-color: white;}#sk-container-id-3 div.sk-label label {font-family: monospace;font-weight: bold;display: inline-block;line-height: 1.2em;}#sk-container-id-3 div.sk-label-container {text-align: center;}#sk-container-id-3 div.sk-container {/* jupyter's `normalize.less` sets `[hidden] { display: none; }` but bootstrap.min.css set `[hidden] { display: none !important; }` so we also need the `!important` here to be able to override the default hidden behavior on the sphinx rendered scikit-learn.org. See: https://github.com/scikit-learn/scikit-learn/issues/21755 */display: inline-block !important;position: relative;}#sk-container-id-3 div.sk-text-repr-fallback {display: none;}</style><div id=\"sk-container-id-3\" class=\"sk-top-container\"><div class=\"sk-text-repr-fallback\"><pre>SVC(C=1000, kernel=&#x27;linear&#x27;, tol=0.0001)</pre><b>In a Jupyter environment, please rerun this cell to show the HTML representation or trust the notebook. <br />On GitHub, the HTML representation is unable to render, please try loading this page with nbviewer.org.</b></div><div class=\"sk-container\" hidden><div class=\"sk-item\"><div class=\"sk-estimator sk-toggleable\"><input class=\"sk-toggleable__control sk-hidden--visually\" id=\"sk-estimator-id-3\" type=\"checkbox\" checked><label for=\"sk-estimator-id-3\" class=\"sk-toggleable__label sk-toggleable__label-arrow\">SVC</label><div class=\"sk-toggleable__content\"><pre>SVC(C=1000, kernel=&#x27;linear&#x27;, tol=0.0001)</pre></div></div></div></div></div>"
     },
     "execution_count": 35,
     "metadata": {},
     "output_type": "execute_result"
    }
   ],
   "source": [
    "model = svm.SVC(kernel='linear', C=1000, tol=0.0001) # initialize the model\n",
    "model.fit(X, y) # fit the model = learn the decision boundaries"
   ]
  },
  {
   "cell_type": "markdown",
   "id": "42cbd32e-a9d9-408e-b647-2be8e3eae63f",
   "metadata": {
    "id": "42cbd32e-a9d9-408e-b647-2be8e3eae63f"
   },
   "source": [
    "When the optimisation has completed, you can access the parameters of the separating hyperplane. The vector $\\mathbf{w}$:"
   ]
  },
  {
   "cell_type": "code",
   "execution_count": 36,
   "id": "7420afd1-bfd8-47fa-b306-c898658a1498",
   "metadata": {
    "tags": [],
    "id": "7420afd1-bfd8-47fa-b306-c898658a1498",
    "ExecuteTime": {
     "end_time": "2023-11-01T13:59:49.666850Z",
     "start_time": "2023-11-01T13:59:49.514518Z"
    }
   },
   "outputs": [
    {
     "data": {
      "text/plain": "array([[ 0.2354745 , -1.41254898]])"
     },
     "execution_count": 36,
     "metadata": {},
     "output_type": "execute_result"
    }
   ],
   "source": [
    "model.coef_"
   ]
  },
  {
   "cell_type": "markdown",
   "id": "63cf71dc-a753-4784-92f9-f52f2e5638f9",
   "metadata": {
    "id": "63cf71dc-a753-4784-92f9-f52f2e5638f9"
   },
   "source": [
    "The $b$:"
   ]
  },
  {
   "cell_type": "code",
   "execution_count": 37,
   "id": "bc71041a-b432-4cb3-8057-e46dcf305938",
   "metadata": {
    "tags": [],
    "id": "bc71041a-b432-4cb3-8057-e46dcf305938",
    "ExecuteTime": {
     "end_time": "2023-11-01T13:59:49.676343Z",
     "start_time": "2023-11-01T13:59:49.518843Z"
    }
   },
   "outputs": [
    {
     "data": {
      "text/plain": "array([3.2961071])"
     },
     "execution_count": 37,
     "metadata": {},
     "output_type": "execute_result"
    }
   ],
   "source": [
    "model.intercept_"
   ]
  },
  {
   "cell_type": "markdown",
   "id": "ea9af3db-c843-422c-ba5a-875d719ad9a0",
   "metadata": {
    "tags": [],
    "id": "ea9af3db-c843-422c-ba5a-875d719ad9a0"
   },
   "source": [
    "The indices of the support vectors:"
   ]
  },
  {
   "cell_type": "code",
   "execution_count": 38,
   "id": "9fa4d49b-f42b-4de2-9e54-1ae516a5a495",
   "metadata": {
    "tags": [],
    "id": "9fa4d49b-f42b-4de2-9e54-1ae516a5a495",
    "ExecuteTime": {
     "end_time": "2023-11-01T13:59:49.677752Z",
     "start_time": "2023-11-01T13:59:49.523697Z"
    }
   },
   "outputs": [
    {
     "data": {
      "text/plain": "array([18, 25,  7], dtype=int32)"
     },
     "execution_count": 38,
     "metadata": {},
     "output_type": "execute_result"
    }
   ],
   "source": [
    "model.support_"
   ]
  },
  {
   "cell_type": "markdown",
   "id": "728a5bd2-239a-43dc-ba2a-ab8df28f836b",
   "metadata": {
    "id": "728a5bd2-239a-43dc-ba2a-ab8df28f836b"
   },
   "source": [
    "So you can slice $\\mathbf{X}$ for the corresponding coordinates"
   ]
  },
  {
   "cell_type": "code",
   "execution_count": 39,
   "id": "bbeef760-10a1-406d-bd6c-e31742857bac",
   "metadata": {
    "tags": [],
    "id": "bbeef760-10a1-406d-bd6c-e31742857bac",
    "ExecuteTime": {
     "end_time": "2023-11-01T13:59:49.685511Z",
     "start_time": "2023-11-01T13:59:49.527736Z"
    }
   },
   "outputs": [
    {
     "data": {
      "text/plain": "array([[0.44359863, 3.11530945],\n       [2.33812285, 3.43116792],\n       [2.06156753, 1.96918596]])"
     },
     "execution_count": 39,
     "metadata": {},
     "output_type": "execute_result"
    }
   ],
   "source": [
    "X[model.support_]"
   ]
  },
  {
   "cell_type": "markdown",
   "id": "4b49c5f7-a206-4543-894a-adaf0dd3bb6c",
   "metadata": {
    "id": "4b49c5f7-a206-4543-894a-adaf0dd3bb6c"
   },
   "source": [
    "or get them directly:"
   ]
  },
  {
   "cell_type": "code",
   "execution_count": 40,
   "id": "ab2de8e6-e43e-4bbd-9c6e-906b980b5672",
   "metadata": {
    "tags": [],
    "id": "ab2de8e6-e43e-4bbd-9c6e-906b980b5672",
    "ExecuteTime": {
     "end_time": "2023-11-01T13:59:49.690259Z",
     "start_time": "2023-11-01T13:59:49.534818Z"
    }
   },
   "outputs": [
    {
     "data": {
      "text/plain": "array([[0.44359863, 3.11530945],\n       [2.33812285, 3.43116792],\n       [2.06156753, 1.96918596]])"
     },
     "execution_count": 40,
     "metadata": {},
     "output_type": "execute_result"
    }
   ],
   "source": [
    "model.support_vectors_"
   ]
  },
  {
   "cell_type": "markdown",
   "id": "f5e64571-5b2a-4d7f-8889-0d5864c0f577",
   "metadata": {
    "id": "f5e64571-5b2a-4d7f-8889-0d5864c0f577"
   },
   "source": [
    "**Task 1A** Calculate $y^{(m)}\\left(b+w^Tx^{(m)}\\right)$ for every support vector. Please explain whether the result complies with your expectation and why?"
   ]
  },
  {
   "cell_type": "code",
   "execution_count": 41,
   "id": "c47e38b2-41a0-4d58-b42d-0b7050efa0e0",
   "metadata": {
    "id": "c47e38b2-41a0-4d58-b42d-0b7050efa0e0",
    "ExecuteTime": {
     "end_time": "2023-11-01T13:59:49.694522Z",
     "start_time": "2023-11-01T13:59:49.542509Z"
    }
   },
   "outputs": [
    {
     "name": "stdout",
     "output_type": "stream",
     "text": [
      "[0.99996393]\n",
      "[1.00001735]\n",
      "[0.99998206]\n"
     ]
    }
   ],
   "source": [
    "supportVectors = model.support_vectors_\n",
    "b = model.intercept_\n",
    "w = model.coef_[0]\n",
    "y_support = y[model.support_]\n",
    "x = X[model.support_]\n",
    "\n",
    "for i in range(len(supportVectors)):\n",
    "    print(y_support[i]*(b + np.dot(w, x[i])))\n",
    "    \n",
    "# The result complies with my expectation, because the support vectors are the vectors that are closest to the decision boundary.\n",
    "# But there must be an error in the calculation, because the result should be 1 or -1, but it is not. What is the allowed error?"
   ]
  },
  {
   "cell_type": "markdown",
   "id": "d41b1d9d-e221-4765-8611-571f47084ad0",
   "metadata": {
    "id": "d41b1d9d-e221-4765-8611-571f47084ad0"
   },
   "source": [
    "## 📢 **HAND-IN** 📢: Report the calculated values and your explanation from Task 1A in Moodle"
   ]
  },
  {
   "cell_type": "code",
   "execution_count": 41,
   "id": "0d3f2bea-d4d2-4888-b4a6-1492e3405988",
   "metadata": {
    "id": "0d3f2bea-d4d2-4888-b4a6-1492e3405988",
    "ExecuteTime": {
     "end_time": "2023-11-01T13:59:49.705632Z",
     "start_time": "2023-11-01T13:59:49.550521Z"
    }
   },
   "outputs": [],
   "source": []
  },
  {
   "cell_type": "markdown",
   "id": "7d69fc08-0000-4819-ab8d-9e9dcc8de9c8",
   "metadata": {
    "id": "7d69fc08-0000-4819-ab8d-9e9dcc8de9c8"
   },
   "source": [
    "**Task 1B** Calculate the distance from the decision boundary to the support vectors, i.e. the width of the margin"
   ]
  },
  {
   "cell_type": "code",
   "execution_count": 42,
   "outputs": [
    {
     "name": "stdout",
     "output_type": "stream",
     "text": [
      "[0.69827859]\n",
      "[0.6983159]\n",
      "[0.69829126]\n"
     ]
    }
   ],
   "source": [
    "norm = np.linalg.norm(w)\n",
    "for i in range(len(supportVectors)):\n",
    "    print((y_support[i]*(b + np.dot(w, x[i]))) / norm)\n",
    "    "
   ],
   "metadata": {
    "collapsed": false,
    "ExecuteTime": {
     "end_time": "2023-11-01T13:59:49.707027Z",
     "start_time": "2023-11-01T13:59:49.553710Z"
    }
   },
   "id": "48c82da98f596bf"
  },
  {
   "cell_type": "markdown",
   "id": "bcb821b4-551a-4c46-81bc-246295ef43e1",
   "metadata": {
    "id": "bcb821b4-551a-4c46-81bc-246295ef43e1"
   },
   "source": [
    "## 📢 **HAND-IN** 📢: Report the width of the margin calculated in Task 1B in Moodle"
   ]
  },
  {
   "cell_type": "code",
   "execution_count": 42,
   "id": "5e84d30a-0a8f-402f-8dbf-64aaafa91402",
   "metadata": {
    "id": "5e84d30a-0a8f-402f-8dbf-64aaafa91402",
    "ExecuteTime": {
     "end_time": "2023-11-01T13:59:49.707150Z",
     "start_time": "2023-11-01T13:59:49.558101Z"
    }
   },
   "outputs": [],
   "source": []
  },
  {
   "cell_type": "markdown",
   "id": "515a6183-5ee3-454f-8430-7bf3a1ff119f",
   "metadata": {
    "id": "515a6183-5ee3-454f-8430-7bf3a1ff119f"
   },
   "source": [
    "**Task 1C** Generate a scatterplot with the data $X$, the decision boundary and the gutters like in\n",
    "https://github.zhaw.ch/pages/doem/mldm_book/06_svm.html#fig-max-margin\n",
    "using the optimised parameters `model.interecept_` and `model.coef_[0]`"
   ]
  },
  {
   "cell_type": "code",
   "execution_count": 43,
   "id": "862e2901-a73a-49b4-bb9d-c30ae8b216c9",
   "metadata": {
    "id": "862e2901-a73a-49b4-bb9d-c30ae8b216c9",
    "ExecuteTime": {
     "end_time": "2023-11-01T13:59:49.723641Z",
     "start_time": "2023-11-01T13:59:49.561233Z"
    }
   },
   "outputs": [
    {
     "data": {
      "text/plain": "<Figure size 500x500 with 1 Axes>",
      "image/svg+xml": "<?xml version=\"1.0\" encoding=\"utf-8\" standalone=\"no\"?>\n<!DOCTYPE svg PUBLIC \"-//W3C//DTD SVG 1.1//EN\"\n  \"http://www.w3.org/Graphics/SVG/1.1/DTD/svg11.dtd\">\n<svg xmlns:xlink=\"http://www.w3.org/1999/xlink\" width=\"334.627187pt\" height=\"327.763125pt\" viewBox=\"0 0 334.627187 327.763125\" xmlns=\"http://www.w3.org/2000/svg\" version=\"1.1\">\n <metadata>\n  <rdf:RDF xmlns:dc=\"http://purl.org/dc/elements/1.1/\" xmlns:cc=\"http://creativecommons.org/ns#\" xmlns:rdf=\"http://www.w3.org/1999/02/22-rdf-syntax-ns#\">\n   <cc:Work>\n    <dc:type rdf:resource=\"http://purl.org/dc/dcmitype/StillImage\"/>\n    <dc:date>2023-11-01T14:59:49.646977</dc:date>\n    <dc:format>image/svg+xml</dc:format>\n    <dc:creator>\n     <cc:Agent>\n      <dc:title>Matplotlib v3.7.2, https://matplotlib.org/</dc:title>\n     </cc:Agent>\n    </dc:creator>\n   </cc:Work>\n  </rdf:RDF>\n </metadata>\n <defs>\n  <style type=\"text/css\">*{stroke-linejoin: round; stroke-linecap: butt}</style>\n </defs>\n <g id=\"figure_1\">\n  <g id=\"patch_1\">\n   <path d=\"M 0 327.763125 \nL 334.627187 327.763125 \nL 334.627187 0 \nL 0 0 \nz\n\" style=\"fill: #ffffff\"/>\n  </g>\n  <g id=\"axes_1\">\n   <g id=\"patch_2\">\n    <path d=\"M 48.427188 284.4 \nL 327.427188 284.4 \nL 327.427188 7.2 \nL 48.427188 7.2 \nz\n\" style=\"fill: #ffffff\"/>\n   </g>\n   <g id=\"PathCollection_1\">\n    <defs>\n     <path id=\"C0_0_35b0468a40\" d=\"M 0 3.535534 \nC 0.937635 3.535534 1.836992 3.163008 2.5 2.5 \nC 3.163008 1.836992 3.535534 0.937635 3.535534 -0 \nC 3.535534 -0.937635 3.163008 -1.836992 2.5 -2.5 \nC 1.836992 -3.163008 0.937635 -3.535534 0 -3.535534 \nC -0.937635 -3.535534 -1.836992 -3.163008 -2.5 -2.5 \nC -3.163008 -1.836992 -3.535534 -0.937635 -3.535534 0 \nC -3.535534 0.937635 -3.163008 1.836992 -2.5 2.5 \nC -1.836992 3.163008 -0.937635 3.535534 0 3.535534 \nz\n\"/>\n    </defs>\n    <g clip-path=\"url(#p8295e94fcb)\">\n     <use xlink:href=\"#C0_0_35b0468a40\" x=\"192.689982\" y=\"187.23015\" style=\"fill: #0000ff; stroke: #0000ff\"/>\n    </g>\n    <g clip-path=\"url(#p8295e94fcb)\">\n     <use xlink:href=\"#C0_0_35b0468a40\" x=\"212.156689\" y=\"183.559716\" style=\"fill: #0000ff; stroke: #0000ff\"/>\n    </g>\n    <g clip-path=\"url(#p8295e94fcb)\">\n     <use xlink:href=\"#C0_0_35b0468a40\" x=\"193.665723\" y=\"83.577903\" style=\"fill: #ff0000; stroke: #ff0000\"/>\n    </g>\n    <g clip-path=\"url(#p8295e94fcb)\">\n     <use xlink:href=\"#C0_0_35b0468a40\" x=\"215.041428\" y=\"90.718779\" style=\"fill: #ff0000; stroke: #ff0000\"/>\n    </g>\n    <g clip-path=\"url(#p8295e94fcb)\">\n     <use xlink:href=\"#C0_0_35b0468a40\" x=\"225.853112\" y=\"203.659918\" style=\"fill: #0000ff; stroke: #0000ff\"/>\n    </g>\n    <g clip-path=\"url(#p8295e94fcb)\">\n     <use xlink:href=\"#C0_0_35b0468a40\" x=\"257.138715\" y=\"237.247847\" style=\"fill: #0000ff; stroke: #0000ff\"/>\n    </g>\n    <g clip-path=\"url(#p8295e94fcb)\">\n     <use xlink:href=\"#C0_0_35b0468a40\" x=\"278.826688\" y=\"239.715289\" style=\"fill: #0000ff; stroke: #0000ff\"/>\n    </g>\n    <g clip-path=\"url(#p8295e94fcb)\">\n     <use xlink:href=\"#C0_0_35b0468a40\" x=\"224.219633\" y=\"171.249613\" style=\"fill: #0000ff; stroke: #0000ff\"/>\n    </g>\n    <g clip-path=\"url(#p8295e94fcb)\">\n     <use xlink:href=\"#C0_0_35b0468a40\" x=\"223.091647\" y=\"200.910043\" style=\"fill: #0000ff; stroke: #0000ff\"/>\n    </g>\n    <g clip-path=\"url(#p8295e94fcb)\">\n     <use xlink:href=\"#C0_0_35b0468a40\" x=\"121.718285\" y=\"43.61447\" style=\"fill: #ff0000; stroke: #ff0000\"/>\n    </g>\n    <g clip-path=\"url(#p8295e94fcb)\">\n     <use xlink:href=\"#C0_0_35b0468a40\" x=\"207.34928\" y=\"59.965926\" style=\"fill: #ff0000; stroke: #ff0000\"/>\n    </g>\n    <g clip-path=\"url(#p8295e94fcb)\">\n     <use xlink:href=\"#C0_0_35b0468a40\" x=\"134.941747\" y=\"69.249202\" style=\"fill: #ff0000; stroke: #ff0000\"/>\n    </g>\n    <g clip-path=\"url(#p8295e94fcb)\">\n     <use xlink:href=\"#C0_0_35b0468a40\" x=\"175.991948\" y=\"77.973989\" style=\"fill: #ff0000; stroke: #ff0000\"/>\n    </g>\n    <g clip-path=\"url(#p8295e94fcb)\">\n     <use xlink:href=\"#C0_0_35b0468a40\" x=\"198.520744\" y=\"222.915632\" style=\"fill: #0000ff; stroke: #0000ff\"/>\n    </g>\n    <g clip-path=\"url(#p8295e94fcb)\">\n     <use xlink:href=\"#C0_0_35b0468a40\" x=\"196.680853\" y=\"102.451669\" style=\"fill: #ff0000; stroke: #ff0000\"/>\n    </g>\n    <g clip-path=\"url(#p8295e94fcb)\">\n     <use xlink:href=\"#C0_0_35b0468a40\" x=\"180.602783\" y=\"104.897208\" style=\"fill: #ff0000; stroke: #ff0000\"/>\n    </g>\n    <g clip-path=\"url(#p8295e94fcb)\">\n     <use xlink:href=\"#C0_0_35b0468a40\" x=\"160.179069\" y=\"92.841258\" style=\"fill: #ff0000; stroke: #ff0000\"/>\n    </g>\n    <g clip-path=\"url(#p8295e94fcb)\">\n     <use xlink:href=\"#C0_0_35b0468a40\" x=\"235.645852\" y=\"225.230728\" style=\"fill: #0000ff; stroke: #0000ff\"/>\n    </g>\n    <g clip-path=\"url(#p8295e94fcb)\">\n     <use xlink:href=\"#C0_0_35b0468a40\" x=\"145.585536\" y=\"129.514134\" style=\"fill: #ff0000; stroke: #ff0000\"/>\n    </g>\n    <g clip-path=\"url(#p8295e94fcb)\">\n     <use xlink:href=\"#C0_0_35b0468a40\" x=\"168.463742\" y=\"77.265305\" style=\"fill: #ff0000; stroke: #ff0000\"/>\n    </g>\n    <g clip-path=\"url(#p8295e94fcb)\">\n     <use xlink:href=\"#C0_0_35b0468a40\" x=\"205.416427\" y=\"218.193947\" style=\"fill: #0000ff; stroke: #0000ff\"/>\n    </g>\n    <g clip-path=\"url(#p8295e94fcb)\">\n     <use xlink:href=\"#C0_0_35b0468a40\" x=\"234.3052\" y=\"194.830838\" style=\"fill: #0000ff; stroke: #0000ff\"/>\n    </g>\n    <g clip-path=\"url(#p8295e94fcb)\">\n     <use xlink:href=\"#C0_0_35b0468a40\" x=\"197.456357\" y=\"209.133592\" style=\"fill: #0000ff; stroke: #0000ff\"/>\n    </g>\n    <g clip-path=\"url(#p8295e94fcb)\">\n     <use xlink:href=\"#C0_0_35b0468a40\" x=\"204.304301\" y=\"218.124293\" style=\"fill: #0000ff; stroke: #0000ff\"/>\n    </g>\n    <g clip-path=\"url(#p8295e94fcb)\">\n     <use xlink:href=\"#C0_0_35b0468a40\" x=\"245.173949\" y=\"207.450423\" style=\"fill: #0000ff; stroke: #0000ff\"/>\n    </g>\n    <g clip-path=\"url(#p8295e94fcb)\">\n     <use xlink:href=\"#C0_0_35b0468a40\" x=\"237.66036\" y=\"118.012315\" style=\"fill: #ff0000; stroke: #ff0000\"/>\n    </g>\n    <g clip-path=\"url(#p8295e94fcb)\">\n     <use xlink:href=\"#C0_0_35b0468a40\" x=\"156.612025\" y=\"95.807688\" style=\"fill: #ff0000; stroke: #ff0000\"/>\n    </g>\n    <g clip-path=\"url(#p8295e94fcb)\">\n     <use xlink:href=\"#C0_0_35b0468a40\" x=\"97.027687\" y=\"71.955637\" style=\"fill: #ff0000; stroke: #ff0000\"/>\n    </g>\n    <g clip-path=\"url(#p8295e94fcb)\">\n     <use xlink:href=\"#C0_0_35b0468a40\" x=\"229.087249\" y=\"219.046914\" style=\"fill: #0000ff; stroke: #0000ff\"/>\n    </g>\n    <g clip-path=\"url(#p8295e94fcb)\">\n     <use xlink:href=\"#C0_0_35b0468a40\" x=\"225.932186\" y=\"107.588575\" style=\"fill: #ff0000; stroke: #ff0000\"/>\n    </g>\n    <g clip-path=\"url(#p8295e94fcb)\">\n     <use xlink:href=\"#C0_0_35b0468a40\" x=\"229.98681\" y=\"188.930254\" style=\"fill: #0000ff; stroke: #0000ff\"/>\n    </g>\n    <g clip-path=\"url(#p8295e94fcb)\">\n     <use xlink:href=\"#C0_0_35b0468a40\" x=\"145.361562\" y=\"77.783032\" style=\"fill: #ff0000; stroke: #ff0000\"/>\n    </g>\n    <g clip-path=\"url(#p8295e94fcb)\">\n     <use xlink:href=\"#C0_0_35b0468a40\" x=\"184.41682\" y=\"78.945997\" style=\"fill: #ff0000; stroke: #ff0000\"/>\n    </g>\n    <g clip-path=\"url(#p8295e94fcb)\">\n     <use xlink:href=\"#C0_0_35b0468a40\" x=\"124.41189\" y=\"90.884436\" style=\"fill: #ff0000; stroke: #ff0000\"/>\n    </g>\n    <g clip-path=\"url(#p8295e94fcb)\">\n     <use xlink:href=\"#C0_0_35b0468a40\" x=\"216.169936\" y=\"54.132789\" style=\"fill: #ff0000; stroke: #ff0000\"/>\n    </g>\n    <g clip-path=\"url(#p8295e94fcb)\">\n     <use xlink:href=\"#C0_0_35b0468a40\" x=\"214.828484\" y=\"209.041391\" style=\"fill: #0000ff; stroke: #0000ff\"/>\n    </g>\n    <g clip-path=\"url(#p8295e94fcb)\">\n     <use xlink:href=\"#C0_0_35b0468a40\" x=\"227.614244\" y=\"201.485592\" style=\"fill: #0000ff; stroke: #0000ff\"/>\n    </g>\n    <g clip-path=\"url(#p8295e94fcb)\">\n     <use xlink:href=\"#C0_0_35b0468a40\" x=\"175.673989\" y=\"54.462382\" style=\"fill: #ff0000; stroke: #ff0000\"/>\n    </g>\n    <g clip-path=\"url(#p8295e94fcb)\">\n     <use xlink:href=\"#C0_0_35b0468a40\" x=\"237.492306\" y=\"243.83343\" style=\"fill: #0000ff; stroke: #0000ff\"/>\n    </g>\n    <g clip-path=\"url(#p8295e94fcb)\">\n     <use xlink:href=\"#C0_0_35b0468a40\" x=\"156.578404\" y=\"112.031599\" style=\"fill: #ff0000; stroke: #ff0000\"/>\n    </g>\n    <g clip-path=\"url(#p8295e94fcb)\">\n     <use xlink:href=\"#C0_0_35b0468a40\" x=\"176.376377\" y=\"200.157348\" style=\"fill: #0000ff; stroke: #0000ff\"/>\n    </g>\n    <g clip-path=\"url(#p8295e94fcb)\">\n     <use xlink:href=\"#C0_0_35b0468a40\" x=\"199.178498\" y=\"89.543297\" style=\"fill: #ff0000; stroke: #ff0000\"/>\n    </g>\n    <g clip-path=\"url(#p8295e94fcb)\">\n     <use xlink:href=\"#C0_0_35b0468a40\" x=\"200.20186\" y=\"247.98553\" style=\"fill: #0000ff; stroke: #0000ff\"/>\n    </g>\n    <g clip-path=\"url(#p8295e94fcb)\">\n     <use xlink:href=\"#C0_0_35b0468a40\" x=\"189.937331\" y=\"190.586659\" style=\"fill: #0000ff; stroke: #0000ff\"/>\n    </g>\n    <g clip-path=\"url(#p8295e94fcb)\">\n     <use xlink:href=\"#C0_0_35b0468a40\" x=\"172.807967\" y=\"90.326062\" style=\"fill: #ff0000; stroke: #ff0000\"/>\n    </g>\n    <g clip-path=\"url(#p8295e94fcb)\">\n     <use xlink:href=\"#C0_0_35b0468a40\" x=\"186.865726\" y=\"189.08849\" style=\"fill: #0000ff; stroke: #0000ff\"/>\n    </g>\n    <g clip-path=\"url(#p8295e94fcb)\">\n     <use xlink:href=\"#C0_0_35b0468a40\" x=\"267.311329\" y=\"168.84585\" style=\"fill: #0000ff; stroke: #0000ff\"/>\n    </g>\n    <g clip-path=\"url(#p8295e94fcb)\">\n     <use xlink:href=\"#C0_0_35b0468a40\" x=\"140.897516\" y=\"117.261862\" style=\"fill: #ff0000; stroke: #ff0000\"/>\n    </g>\n    <g clip-path=\"url(#p8295e94fcb)\">\n     <use xlink:href=\"#C0_0_35b0468a40\" x=\"258.287015\" y=\"214.199651\" style=\"fill: #0000ff; stroke: #0000ff\"/>\n    </g>\n    <g clip-path=\"url(#p8295e94fcb)\">\n     <use xlink:href=\"#C0_0_35b0468a40\" x=\"161.328412\" y=\"82.820323\" style=\"fill: #ff0000; stroke: #ff0000\"/>\n    </g>\n   </g>\n   <g id=\"PathCollection_2\">\n    <defs>\n     <path id=\"C1_0_46071cd76c\" d=\"M 0 7.071068 \nC 1.875269 7.071068 3.673985 6.326016 5 5 \nC 6.326016 3.673985 7.071068 1.875269 7.071068 -0 \nC 7.071068 -1.875269 6.326016 -3.673985 5 -5 \nC 3.673985 -6.326016 1.875269 -7.071068 0 -7.071068 \nC -1.875269 -7.071068 -3.673985 -6.326016 -5 -5 \nC -6.326016 -3.673985 -7.071068 -1.875269 -7.071068 0 \nC -7.071068 1.875269 -6.326016 3.673985 -5 5 \nC -3.673985 6.326016 -1.875269 7.071068 0 7.071068 \nz\n\"/>\n    </defs>\n    <g clip-path=\"url(#p8295e94fcb)\">\n     <use xlink:href=\"#C1_0_46071cd76c\" x=\"145.585536\" y=\"129.514134\" style=\"fill: none; stroke: #000000\"/>\n    </g>\n    <g clip-path=\"url(#p8295e94fcb)\">\n     <use xlink:href=\"#C1_0_46071cd76c\" x=\"237.66036\" y=\"118.012315\" style=\"fill: none; stroke: #000000\"/>\n    </g>\n    <g clip-path=\"url(#p8295e94fcb)\">\n     <use xlink:href=\"#C1_0_46071cd76c\" x=\"224.219633\" y=\"171.249613\" style=\"fill: none; stroke: #000000\"/>\n    </g>\n   </g>\n   <g id=\"matplotlib.axis_1\">\n    <g id=\"xtick_1\">\n     <g id=\"line2d_1\">\n      <defs>\n       <path id=\"m263bb56e90\" d=\"M 0 0 \nL 0 3.5 \n\" style=\"stroke: #000000; stroke-width: 0.8\"/>\n      </defs>\n      <g>\n       <use xlink:href=\"#m263bb56e90\" x=\"75.425922\" y=\"284.4\" style=\"stroke: #000000; stroke-width: 0.8\"/>\n      </g>\n     </g>\n     <g id=\"text_1\">\n      <!-- −1 -->\n      <g transform=\"translate(68.054828 298.998438) scale(0.1 -0.1)\">\n       <defs>\n        <path id=\"DejaVuSans-2212\" d=\"M 678 2272 \nL 4684 2272 \nL 4684 1741 \nL 678 1741 \nL 678 2272 \nz\n\" transform=\"scale(0.015625)\"/>\n        <path id=\"DejaVuSans-31\" d=\"M 794 531 \nL 1825 531 \nL 1825 4091 \nL 703 3866 \nL 703 4441 \nL 1819 4666 \nL 2450 4666 \nL 2450 531 \nL 3481 531 \nL 3481 0 \nL 794 0 \nL 794 531 \nz\n\" transform=\"scale(0.015625)\"/>\n       </defs>\n       <use xlink:href=\"#DejaVuSans-2212\"/>\n       <use xlink:href=\"#DejaVuSans-31\" x=\"83.789062\"/>\n      </g>\n     </g>\n    </g>\n    <g id=\"xtick_2\">\n     <g id=\"line2d_2\">\n      <g>\n       <use xlink:href=\"#m263bb56e90\" x=\"124.026422\" y=\"284.4\" style=\"stroke: #000000; stroke-width: 0.8\"/>\n      </g>\n     </g>\n     <g id=\"text_2\">\n      <!-- 0 -->\n      <g transform=\"translate(120.845172 298.998438) scale(0.1 -0.1)\">\n       <defs>\n        <path id=\"DejaVuSans-30\" d=\"M 2034 4250 \nQ 1547 4250 1301 3770 \nQ 1056 3291 1056 2328 \nQ 1056 1369 1301 889 \nQ 1547 409 2034 409 \nQ 2525 409 2770 889 \nQ 3016 1369 3016 2328 \nQ 3016 3291 2770 3770 \nQ 2525 4250 2034 4250 \nz\nM 2034 4750 \nQ 2819 4750 3233 4129 \nQ 3647 3509 3647 2328 \nQ 3647 1150 3233 529 \nQ 2819 -91 2034 -91 \nQ 1250 -91 836 529 \nQ 422 1150 422 2328 \nQ 422 3509 836 4129 \nQ 1250 4750 2034 4750 \nz\n\" transform=\"scale(0.015625)\"/>\n       </defs>\n       <use xlink:href=\"#DejaVuSans-30\"/>\n      </g>\n     </g>\n    </g>\n    <g id=\"xtick_3\">\n     <g id=\"line2d_3\">\n      <g>\n       <use xlink:href=\"#m263bb56e90\" x=\"172.626921\" y=\"284.4\" style=\"stroke: #000000; stroke-width: 0.8\"/>\n      </g>\n     </g>\n     <g id=\"text_3\">\n      <!-- 1 -->\n      <g transform=\"translate(169.445671 298.998438) scale(0.1 -0.1)\">\n       <use xlink:href=\"#DejaVuSans-31\"/>\n      </g>\n     </g>\n    </g>\n    <g id=\"xtick_4\">\n     <g id=\"line2d_4\">\n      <g>\n       <use xlink:href=\"#m263bb56e90\" x=\"221.22742\" y=\"284.4\" style=\"stroke: #000000; stroke-width: 0.8\"/>\n      </g>\n     </g>\n     <g id=\"text_4\">\n      <!-- 2 -->\n      <g transform=\"translate(218.04617 298.998438) scale(0.1 -0.1)\">\n       <defs>\n        <path id=\"DejaVuSans-32\" d=\"M 1228 531 \nL 3431 531 \nL 3431 0 \nL 469 0 \nL 469 531 \nQ 828 903 1448 1529 \nQ 2069 2156 2228 2338 \nQ 2531 2678 2651 2914 \nQ 2772 3150 2772 3378 \nQ 2772 3750 2511 3984 \nQ 2250 4219 1831 4219 \nQ 1534 4219 1204 4116 \nQ 875 4013 500 3803 \nL 500 4441 \nQ 881 4594 1212 4672 \nQ 1544 4750 1819 4750 \nQ 2544 4750 2975 4387 \nQ 3406 4025 3406 3419 \nQ 3406 3131 3298 2873 \nQ 3191 2616 2906 2266 \nQ 2828 2175 2409 1742 \nQ 1991 1309 1228 531 \nz\n\" transform=\"scale(0.015625)\"/>\n       </defs>\n       <use xlink:href=\"#DejaVuSans-32\"/>\n      </g>\n     </g>\n    </g>\n    <g id=\"xtick_5\">\n     <g id=\"line2d_5\">\n      <g>\n       <use xlink:href=\"#m263bb56e90\" x=\"269.82792\" y=\"284.4\" style=\"stroke: #000000; stroke-width: 0.8\"/>\n      </g>\n     </g>\n     <g id=\"text_5\">\n      <!-- 3 -->\n      <g transform=\"translate(266.64667 298.998438) scale(0.1 -0.1)\">\n       <defs>\n        <path id=\"DejaVuSans-33\" d=\"M 2597 2516 \nQ 3050 2419 3304 2112 \nQ 3559 1806 3559 1356 \nQ 3559 666 3084 287 \nQ 2609 -91 1734 -91 \nQ 1441 -91 1130 -33 \nQ 819 25 488 141 \nL 488 750 \nQ 750 597 1062 519 \nQ 1375 441 1716 441 \nQ 2309 441 2620 675 \nQ 2931 909 2931 1356 \nQ 2931 1769 2642 2001 \nQ 2353 2234 1838 2234 \nL 1294 2234 \nL 1294 2753 \nL 1863 2753 \nQ 2328 2753 2575 2939 \nQ 2822 3125 2822 3475 \nQ 2822 3834 2567 4026 \nQ 2313 4219 1838 4219 \nQ 1578 4219 1281 4162 \nQ 984 4106 628 3988 \nL 628 4550 \nQ 988 4650 1302 4700 \nQ 1616 4750 1894 4750 \nQ 2613 4750 3031 4423 \nQ 3450 4097 3450 3541 \nQ 3450 3153 3228 2886 \nQ 3006 2619 2597 2516 \nz\n\" transform=\"scale(0.015625)\"/>\n       </defs>\n       <use xlink:href=\"#DejaVuSans-33\"/>\n      </g>\n     </g>\n    </g>\n    <g id=\"xtick_6\">\n     <g id=\"line2d_6\">\n      <g>\n       <use xlink:href=\"#m263bb56e90\" x=\"318.428419\" y=\"284.4\" style=\"stroke: #000000; stroke-width: 0.8\"/>\n      </g>\n     </g>\n     <g id=\"text_6\">\n      <!-- 4 -->\n      <g transform=\"translate(315.247169 298.998438) scale(0.1 -0.1)\">\n       <defs>\n        <path id=\"DejaVuSans-34\" d=\"M 2419 4116 \nL 825 1625 \nL 2419 1625 \nL 2419 4116 \nz\nM 2253 4666 \nL 3047 4666 \nL 3047 1625 \nL 3713 1625 \nL 3713 1100 \nL 3047 1100 \nL 3047 0 \nL 2419 0 \nL 2419 1100 \nL 313 1100 \nL 313 1709 \nL 2253 4666 \nz\n\" transform=\"scale(0.015625)\"/>\n       </defs>\n       <use xlink:href=\"#DejaVuSans-34\"/>\n      </g>\n     </g>\n    </g>\n    <g id=\"text_7\">\n     <!-- $x_1$ -->\n     <g transform=\"translate(179.367188 317.235625) scale(0.16 -0.16)\">\n      <defs>\n       <path id=\"DejaVuSans-Oblique-78\" d=\"M 3841 3500 \nL 2234 1784 \nL 3219 0 \nL 2559 0 \nL 1819 1388 \nL 531 0 \nL -166 0 \nL 1556 1844 \nL 641 3500 \nL 1300 3500 \nL 1972 2234 \nL 3144 3500 \nL 3841 3500 \nz\n\" transform=\"scale(0.015625)\"/>\n      </defs>\n      <use xlink:href=\"#DejaVuSans-Oblique-78\" transform=\"translate(0 0.3125)\"/>\n      <use xlink:href=\"#DejaVuSans-31\" transform=\"translate(59.179688 -16.09375) scale(0.7)\"/>\n     </g>\n    </g>\n   </g>\n   <g id=\"matplotlib.axis_2\">\n    <g id=\"ytick_1\">\n     <g id=\"line2d_7\">\n      <defs>\n       <path id=\"mf594b5d7cb\" d=\"M 0 0 \nL -3.5 0 \n\" style=\"stroke: #000000; stroke-width: 0.8\"/>\n      </defs>\n      <g>\n       <use xlink:href=\"#mf594b5d7cb\" x=\"48.427188\" y=\"279.370947\" style=\"stroke: #000000; stroke-width: 0.8\"/>\n      </g>\n     </g>\n     <g id=\"text_8\">\n      <!-- −1 -->\n      <g transform=\"translate(26.685 283.170166) scale(0.1 -0.1)\">\n       <use xlink:href=\"#DejaVuSans-2212\"/>\n       <use xlink:href=\"#DejaVuSans-31\" x=\"83.789062\"/>\n      </g>\n     </g>\n    </g>\n    <g id=\"ytick_2\">\n     <g id=\"line2d_8\">\n      <g>\n       <use xlink:href=\"#mf594b5d7cb\" x=\"48.427188\" y=\"242.956477\" style=\"stroke: #000000; stroke-width: 0.8\"/>\n      </g>\n     </g>\n     <g id=\"text_9\">\n      <!-- 0 -->\n      <g transform=\"translate(35.064688 246.755695) scale(0.1 -0.1)\">\n       <use xlink:href=\"#DejaVuSans-30\"/>\n      </g>\n     </g>\n    </g>\n    <g id=\"ytick_3\">\n     <g id=\"line2d_9\">\n      <g>\n       <use xlink:href=\"#mf594b5d7cb\" x=\"48.427188\" y=\"206.542007\" style=\"stroke: #000000; stroke-width: 0.8\"/>\n      </g>\n     </g>\n     <g id=\"text_10\">\n      <!-- 1 -->\n      <g transform=\"translate(35.064688 210.341225) scale(0.1 -0.1)\">\n       <use xlink:href=\"#DejaVuSans-31\"/>\n      </g>\n     </g>\n    </g>\n    <g id=\"ytick_4\">\n     <g id=\"line2d_10\">\n      <g>\n       <use xlink:href=\"#mf594b5d7cb\" x=\"48.427188\" y=\"170.127536\" style=\"stroke: #000000; stroke-width: 0.8\"/>\n      </g>\n     </g>\n     <g id=\"text_11\">\n      <!-- 2 -->\n      <g transform=\"translate(35.064688 173.926755) scale(0.1 -0.1)\">\n       <use xlink:href=\"#DejaVuSans-32\"/>\n      </g>\n     </g>\n    </g>\n    <g id=\"ytick_5\">\n     <g id=\"line2d_11\">\n      <g>\n       <use xlink:href=\"#mf594b5d7cb\" x=\"48.427188\" y=\"133.713066\" style=\"stroke: #000000; stroke-width: 0.8\"/>\n      </g>\n     </g>\n     <g id=\"text_12\">\n      <!-- 3 -->\n      <g transform=\"translate(35.064688 137.512285) scale(0.1 -0.1)\">\n       <use xlink:href=\"#DejaVuSans-33\"/>\n      </g>\n     </g>\n    </g>\n    <g id=\"ytick_6\">\n     <g id=\"line2d_12\">\n      <g>\n       <use xlink:href=\"#mf594b5d7cb\" x=\"48.427188\" y=\"97.298596\" style=\"stroke: #000000; stroke-width: 0.8\"/>\n      </g>\n     </g>\n     <g id=\"text_13\">\n      <!-- 4 -->\n      <g transform=\"translate(35.064688 101.097815) scale(0.1 -0.1)\">\n       <use xlink:href=\"#DejaVuSans-34\"/>\n      </g>\n     </g>\n    </g>\n    <g id=\"ytick_7\">\n     <g id=\"line2d_13\">\n      <g>\n       <use xlink:href=\"#mf594b5d7cb\" x=\"48.427188\" y=\"60.884126\" style=\"stroke: #000000; stroke-width: 0.8\"/>\n      </g>\n     </g>\n     <g id=\"text_14\">\n      <!-- 5 -->\n      <g transform=\"translate(35.064688 64.683345) scale(0.1 -0.1)\">\n       <defs>\n        <path id=\"DejaVuSans-35\" d=\"M 691 4666 \nL 3169 4666 \nL 3169 4134 \nL 1269 4134 \nL 1269 2991 \nQ 1406 3038 1543 3061 \nQ 1681 3084 1819 3084 \nQ 2600 3084 3056 2656 \nQ 3513 2228 3513 1497 \nQ 3513 744 3044 326 \nQ 2575 -91 1722 -91 \nQ 1428 -91 1123 -41 \nQ 819 9 494 109 \nL 494 744 \nQ 775 591 1075 516 \nQ 1375 441 1709 441 \nQ 2250 441 2565 725 \nQ 2881 1009 2881 1497 \nQ 2881 1984 2565 2268 \nQ 2250 2553 1709 2553 \nQ 1456 2553 1204 2497 \nQ 953 2441 691 2322 \nL 691 4666 \nz\n\" transform=\"scale(0.015625)\"/>\n       </defs>\n       <use xlink:href=\"#DejaVuSans-35\"/>\n      </g>\n     </g>\n    </g>\n    <g id=\"ytick_8\">\n     <g id=\"line2d_14\">\n      <g>\n       <use xlink:href=\"#mf594b5d7cb\" x=\"48.427188\" y=\"24.469656\" style=\"stroke: #000000; stroke-width: 0.8\"/>\n      </g>\n     </g>\n     <g id=\"text_15\">\n      <!-- 6 -->\n      <g transform=\"translate(35.064688 28.268875) scale(0.1 -0.1)\">\n       <defs>\n        <path id=\"DejaVuSans-36\" d=\"M 2113 2584 \nQ 1688 2584 1439 2293 \nQ 1191 2003 1191 1497 \nQ 1191 994 1439 701 \nQ 1688 409 2113 409 \nQ 2538 409 2786 701 \nQ 3034 994 3034 1497 \nQ 3034 2003 2786 2293 \nQ 2538 2584 2113 2584 \nz\nM 3366 4563 \nL 3366 3988 \nQ 3128 4100 2886 4159 \nQ 2644 4219 2406 4219 \nQ 1781 4219 1451 3797 \nQ 1122 3375 1075 2522 \nQ 1259 2794 1537 2939 \nQ 1816 3084 2150 3084 \nQ 2853 3084 3261 2657 \nQ 3669 2231 3669 1497 \nQ 3669 778 3244 343 \nQ 2819 -91 2113 -91 \nQ 1303 -91 875 529 \nQ 447 1150 447 2328 \nQ 447 3434 972 4092 \nQ 1497 4750 2381 4750 \nQ 2619 4750 2861 4703 \nQ 3103 4656 3366 4563 \nz\n\" transform=\"scale(0.015625)\"/>\n       </defs>\n       <use xlink:href=\"#DejaVuSans-36\"/>\n      </g>\n     </g>\n    </g>\n    <g id=\"text_16\">\n     <!-- $x_2$ -->\n     <g transform=\"translate(19.3575 154.36) rotate(-90) scale(0.16 -0.16)\">\n      <use xlink:href=\"#DejaVuSans-Oblique-78\" transform=\"translate(0 0.3125)\"/>\n      <use xlink:href=\"#DejaVuSans-32\" transform=\"translate(59.179688 -16.09375) scale(0.7)\"/>\n     </g>\n    </g>\n   </g>\n   <g id=\"PathCollection_3\">\n    <path d=\"M 327.394054 106.804735 \nL 48.427188 141.648594 \nL 48.427188 141.648594 \n\" clip-path=\"url(#p8295e94fcb)\" style=\"fill: none; stroke-dasharray: 5.55,2.4; stroke-dashoffset: 0; stroke: #000000; stroke-opacity: 0.5; stroke-width: 1.5\"/>\n   </g>\n   <g id=\"PathCollection_4\">\n    <path d=\"M 327.394054 132.583997 \nL 48.427188 167.427856 \nL 48.427188 167.427856 \n\" clip-path=\"url(#p8295e94fcb)\" style=\"fill: none; stroke: #000000; stroke-opacity: 0.5; stroke-width: 1.5\"/>\n   </g>\n   <g id=\"PathCollection_5\">\n    <path d=\"M 327.394054 158.363259 \nL 48.427188 193.207118 \nL 48.427188 193.207118 \n\" clip-path=\"url(#p8295e94fcb)\" style=\"fill: none; stroke-dasharray: 5.55,2.4; stroke-dashoffset: 0; stroke: #000000; stroke-opacity: 0.5; stroke-width: 1.5\"/>\n   </g>\n   <g id=\"patch_3\">\n    <path d=\"M 48.427188 284.4 \nL 48.427188 7.2 \n\" style=\"fill: none; stroke: #000000; stroke-width: 0.8; stroke-linejoin: miter; stroke-linecap: square\"/>\n   </g>\n   <g id=\"patch_4\">\n    <path d=\"M 327.427188 284.4 \nL 327.427188 7.2 \n\" style=\"fill: none; stroke: #000000; stroke-width: 0.8; stroke-linejoin: miter; stroke-linecap: square\"/>\n   </g>\n   <g id=\"patch_5\">\n    <path d=\"M 48.427188 284.4 \nL 327.427187 284.4 \n\" style=\"fill: none; stroke: #000000; stroke-width: 0.8; stroke-linejoin: miter; stroke-linecap: square\"/>\n   </g>\n   <g id=\"patch_6\">\n    <path d=\"M 48.427188 7.2 \nL 327.427187 7.2 \n\" style=\"fill: none; stroke: #000000; stroke-width: 0.8; stroke-linejoin: miter; stroke-linecap: square\"/>\n   </g>\n  </g>\n </g>\n <defs>\n  <clipPath id=\"p8295e94fcb\">\n   <rect x=\"48.427188\" y=\"7.2\" width=\"279\" height=\"277.2\"/>\n  </clipPath>\n </defs>\n</svg>\n"
     },
     "metadata": {},
     "output_type": "display_data"
    }
   ],
   "source": [
    "xx = np.linspace(-5, 5)\n",
    "\n",
    "\n",
    "fig, ax = plt.subplots(figsize=(5, 5))\n",
    "ax.scatter(X[:, 0], X[:, 1], c=y, s=50, cmap=cmap)\n",
    "\n",
    "ax.scatter(model.support_vectors_[:, 0], model.support_vectors_[:, 1], s=200, facecolors='none', edgecolors='k')\n",
    "ax.set_xlim(X[:, 0].min() - 1, X[:, 0].max() + 1)\n",
    "ax.set_ylim(X[:, 1].min() - 1, X[:, 1].max() + 1)\n",
    "\n",
    "xx, yy = np.meshgrid(np.arange(X[:, 0].min() - 1, X[:, 0].max() + 1, 0.01),\n",
    "                     np.arange(X[:, 1].min() - 1, X[:, 1].max() + 1, 0.01))\n",
    "\n",
    "Z = model.decision_function(np.c_[xx.ravel(), yy.ravel()])\n",
    "Z = Z.reshape(xx.shape)\n",
    "\n",
    "# Plot the decision boundary and margins\n",
    "ax.contour(xx, yy, Z, colors='k', levels=[-1, 0, 1], alpha=0.5, linestyles=['--', '-', '--'])\n",
    "\n",
    "\n",
    "ax.set_xlabel(r'$x_1$', fontsize=16)\n",
    "ax.set_ylabel(r'$x_2$', fontsize=16)\n",
    "\n",
    "plt.show()"
   ]
  },
  {
   "cell_type": "markdown",
   "id": "cd6e8cb6-d84f-4c15-8ec7-b85b5de660e7",
   "metadata": {
    "id": "cd6e8cb6-d84f-4c15-8ec7-b85b5de660e7"
   },
   "source": [
    "## 📢 **HAND-IN** 📢: Upload an image-file of the plot from task 1C in Moodle"
   ]
  },
  {
   "cell_type": "code",
   "execution_count": 43,
   "id": "200853c4-901b-49ac-8093-b3ab4e273306",
   "metadata": {
    "id": "200853c4-901b-49ac-8093-b3ab4e273306",
    "ExecuteTime": {
     "end_time": "2023-11-01T13:59:49.724155Z",
     "start_time": "2023-11-01T13:59:49.663234Z"
    }
   },
   "outputs": [],
   "source": []
  },
  {
   "cell_type": "markdown",
   "id": "a207e57a-af49-463d-b93a-e0a733a074b3",
   "metadata": {
    "id": "a207e57a-af49-463d-b93a-e0a733a074b3"
   },
   "source": [
    "## Task 2 Large Margin Classifier on the Wine Dataset (4 points)\n",
    "This dataset `sklearn.datasets.load_wine()` contains the chemical analysis of 178 wine samples produced by 3 different cultivators: the goal is to train a classification model capable of predicting the cultivator based on the wine's chemical analysis. Since SVM classifiers are binary classifiers, you will need to use one-versus-all to classify all 3 classes. What accuracy can you reach?"
   ]
  },
  {
   "cell_type": "code",
   "execution_count": 44,
   "id": "016a06f5-f14a-4abe-9733-22760bf5a8d1",
   "metadata": {
    "tags": [],
    "id": "016a06f5-f14a-4abe-9733-22760bf5a8d1",
    "ExecuteTime": {
     "end_time": "2023-11-01T13:59:49.725722Z",
     "start_time": "2023-11-01T13:59:49.666240Z"
    }
   },
   "outputs": [
    {
     "name": "stdout",
     "output_type": "stream",
     "text": [
      ".. _wine_dataset:\n",
      "\n",
      "Wine recognition dataset\n",
      "------------------------\n",
      "\n",
      "**Data Set Characteristics:**\n",
      "\n",
      "    :Number of Instances: 178\n",
      "    :Number of Attributes: 13 numeric, predictive attributes and the class\n",
      "    :Attribute Information:\n",
      " \t\t- Alcohol\n",
      " \t\t- Malic acid\n",
      " \t\t- Ash\n",
      "\t\t- Alcalinity of ash  \n",
      " \t\t- Magnesium\n",
      "\t\t- Total phenols\n",
      " \t\t- Flavanoids\n",
      " \t\t- Nonflavanoid phenols\n",
      " \t\t- Proanthocyanins\n",
      "\t\t- Color intensity\n",
      " \t\t- Hue\n",
      " \t\t- OD280/OD315 of diluted wines\n",
      " \t\t- Proline\n",
      "\n",
      "    - class:\n",
      "            - class_0\n",
      "            - class_1\n",
      "            - class_2\n",
      "\t\t\n",
      "    :Summary Statistics:\n",
      "    \n",
      "    ============================= ==== ===== ======= =====\n",
      "                                   Min   Max   Mean     SD\n",
      "    ============================= ==== ===== ======= =====\n",
      "    Alcohol:                      11.0  14.8    13.0   0.8\n",
      "    Malic Acid:                   0.74  5.80    2.34  1.12\n",
      "    Ash:                          1.36  3.23    2.36  0.27\n",
      "    Alcalinity of Ash:            10.6  30.0    19.5   3.3\n",
      "    Magnesium:                    70.0 162.0    99.7  14.3\n",
      "    Total Phenols:                0.98  3.88    2.29  0.63\n",
      "    Flavanoids:                   0.34  5.08    2.03  1.00\n",
      "    Nonflavanoid Phenols:         0.13  0.66    0.36  0.12\n",
      "    Proanthocyanins:              0.41  3.58    1.59  0.57\n",
      "    Colour Intensity:              1.3  13.0     5.1   2.3\n",
      "    Hue:                          0.48  1.71    0.96  0.23\n",
      "    OD280/OD315 of diluted wines: 1.27  4.00    2.61  0.71\n",
      "    Proline:                       278  1680     746   315\n",
      "    ============================= ==== ===== ======= =====\n",
      "\n",
      "    :Missing Attribute Values: None\n",
      "    :Class Distribution: class_0 (59), class_1 (71), class_2 (48)\n",
      "    :Creator: R.A. Fisher\n",
      "    :Donor: Michael Marshall (MARSHALL%PLU@io.arc.nasa.gov)\n",
      "    :Date: July, 1988\n",
      "\n",
      "This is a copy of UCI ML Wine recognition datasets.\n",
      "https://archive.ics.uci.edu/ml/machine-learning-databases/wine/wine.data\n",
      "\n",
      "The data is the results of a chemical analysis of wines grown in the same\n",
      "region in Italy by three different cultivators. There are thirteen different\n",
      "measurements taken for different constituents found in the three types of\n",
      "wine.\n",
      "\n",
      "Original Owners: \n",
      "\n",
      "Forina, M. et al, PARVUS - \n",
      "An Extendible Package for Data Exploration, Classification and Correlation. \n",
      "Institute of Pharmaceutical and Food Analysis and Technologies,\n",
      "Via Brigata Salerno, 16147 Genoa, Italy.\n",
      "\n",
      "Citation:\n",
      "\n",
      "Lichman, M. (2013). UCI Machine Learning Repository\n",
      "[https://archive.ics.uci.edu/ml]. Irvine, CA: University of California,\n",
      "School of Information and Computer Science. \n",
      "\n",
      ".. topic:: References\n",
      "\n",
      "  (1) S. Aeberhard, D. Coomans and O. de Vel, \n",
      "  Comparison of Classifiers in High Dimensional Settings, \n",
      "  Tech. Rep. no. 92-02, (1992), Dept. of Computer Science and Dept. of  \n",
      "  Mathematics and Statistics, James Cook University of North Queensland. \n",
      "  (Also submitted to Technometrics). \n",
      "\n",
      "  The data was used with many others for comparing various \n",
      "  classifiers. The classes are separable, though only RDA \n",
      "  has achieved 100% correct classification. \n",
      "  (RDA : 100%, QDA 99.4%, LDA 98.9%, 1NN 96.1% (z-transformed data)) \n",
      "  (All results using the leave-one-out technique) \n",
      "\n",
      "  (2) S. Aeberhard, D. Coomans and O. de Vel, \n",
      "  \"THE CLASSIFICATION PERFORMANCE OF RDA\" \n",
      "  Tech. Rep. no. 92-01, (1992), Dept. of Computer Science and Dept. of \n",
      "  Mathematics and Statistics, James Cook University of North Queensland. \n",
      "  (Also submitted to Journal of Chemometrics).\n"
     ]
    }
   ],
   "source": [
    "wine = datasets.load_wine(as_frame=True)\n",
    "print(wine.DESCR)"
   ]
  },
  {
   "cell_type": "markdown",
   "id": "c29cd774-13d5-42ec-886b-2e90305f36aa",
   "metadata": {
    "id": "c29cd774-13d5-42ec-886b-2e90305f36aa"
   },
   "source": [
    "**TASK 2A**: Train a linear SVM on the dataset and report the accuracy"
   ]
  },
  {
   "cell_type": "code",
   "execution_count": 45,
   "id": "bd87802f-1a57-47bf-b639-d70d44c837c3",
   "metadata": {
    "id": "bd87802f-1a57-47bf-b639-d70d44c837c3",
    "tags": [],
    "ExecuteTime": {
     "end_time": "2023-11-01T13:59:49.726141Z",
     "start_time": "2023-11-01T13:59:49.674083Z"
    }
   },
   "outputs": [],
   "source": [
    "from sklearn.model_selection import train_test_split\n",
    "\n",
    "X_train, X_test, y_train, y_test = train_test_split(\n",
    "    wine.data, wine.target, random_state=42)"
   ]
  },
  {
   "cell_type": "code",
   "execution_count": 46,
   "id": "852844a6-99a0-4cc6-8f01-3e0fdf5b7cfd",
   "metadata": {
    "id": "852844a6-99a0-4cc6-8f01-3e0fdf5b7cfd",
    "tags": [],
    "ExecuteTime": {
     "end_time": "2023-11-01T13:59:49.795606Z",
     "start_time": "2023-11-01T13:59:49.681328Z"
    }
   },
   "outputs": [
    {
     "data": {
      "text/plain": "     alcohol  malic_acid   ash  alcalinity_of_ash  magnesium  total_phenols  \\\n2      13.16        2.36  2.67               18.6      101.0           2.80   \n100    12.08        2.08  1.70               17.5       97.0           2.23   \n122    12.42        4.43  2.73               26.5      102.0           2.20   \n154    12.58        1.29  2.10               20.0      103.0           1.48   \n51     13.83        1.65  2.60               17.2       94.0           2.45   \n\n     flavanoids  nonflavanoid_phenols  proanthocyanins  color_intensity   hue  \\\n2          3.24                  0.30             2.81             5.68  1.03   \n100        2.17                  0.26             1.40             3.30  1.27   \n122        2.13                  0.43             1.71             2.08  0.92   \n154        0.58                  0.53             1.40             7.60  0.58   \n51         2.99                  0.22             2.29             5.60  1.24   \n\n     od280/od315_of_diluted_wines  proline  \n2                            3.17   1185.0  \n100                          2.96    710.0  \n122                          3.12    365.0  \n154                          1.55    640.0  \n51                           3.37   1265.0  ",
      "text/html": "<div>\n<style scoped>\n    .dataframe tbody tr th:only-of-type {\n        vertical-align: middle;\n    }\n\n    .dataframe tbody tr th {\n        vertical-align: top;\n    }\n\n    .dataframe thead th {\n        text-align: right;\n    }\n</style>\n<table border=\"1\" class=\"dataframe\">\n  <thead>\n    <tr style=\"text-align: right;\">\n      <th></th>\n      <th>alcohol</th>\n      <th>malic_acid</th>\n      <th>ash</th>\n      <th>alcalinity_of_ash</th>\n      <th>magnesium</th>\n      <th>total_phenols</th>\n      <th>flavanoids</th>\n      <th>nonflavanoid_phenols</th>\n      <th>proanthocyanins</th>\n      <th>color_intensity</th>\n      <th>hue</th>\n      <th>od280/od315_of_diluted_wines</th>\n      <th>proline</th>\n    </tr>\n  </thead>\n  <tbody>\n    <tr>\n      <th>2</th>\n      <td>13.16</td>\n      <td>2.36</td>\n      <td>2.67</td>\n      <td>18.6</td>\n      <td>101.0</td>\n      <td>2.80</td>\n      <td>3.24</td>\n      <td>0.30</td>\n      <td>2.81</td>\n      <td>5.68</td>\n      <td>1.03</td>\n      <td>3.17</td>\n      <td>1185.0</td>\n    </tr>\n    <tr>\n      <th>100</th>\n      <td>12.08</td>\n      <td>2.08</td>\n      <td>1.70</td>\n      <td>17.5</td>\n      <td>97.0</td>\n      <td>2.23</td>\n      <td>2.17</td>\n      <td>0.26</td>\n      <td>1.40</td>\n      <td>3.30</td>\n      <td>1.27</td>\n      <td>2.96</td>\n      <td>710.0</td>\n    </tr>\n    <tr>\n      <th>122</th>\n      <td>12.42</td>\n      <td>4.43</td>\n      <td>2.73</td>\n      <td>26.5</td>\n      <td>102.0</td>\n      <td>2.20</td>\n      <td>2.13</td>\n      <td>0.43</td>\n      <td>1.71</td>\n      <td>2.08</td>\n      <td>0.92</td>\n      <td>3.12</td>\n      <td>365.0</td>\n    </tr>\n    <tr>\n      <th>154</th>\n      <td>12.58</td>\n      <td>1.29</td>\n      <td>2.10</td>\n      <td>20.0</td>\n      <td>103.0</td>\n      <td>1.48</td>\n      <td>0.58</td>\n      <td>0.53</td>\n      <td>1.40</td>\n      <td>7.60</td>\n      <td>0.58</td>\n      <td>1.55</td>\n      <td>640.0</td>\n    </tr>\n    <tr>\n      <th>51</th>\n      <td>13.83</td>\n      <td>1.65</td>\n      <td>2.60</td>\n      <td>17.2</td>\n      <td>94.0</td>\n      <td>2.45</td>\n      <td>2.99</td>\n      <td>0.22</td>\n      <td>2.29</td>\n      <td>5.60</td>\n      <td>1.24</td>\n      <td>3.37</td>\n      <td>1265.0</td>\n    </tr>\n  </tbody>\n</table>\n</div>"
     },
     "execution_count": 46,
     "metadata": {},
     "output_type": "execute_result"
    }
   ],
   "source": [
    "X_train.head()"
   ]
  },
  {
   "cell_type": "code",
   "execution_count": 47,
   "id": "03027a0c-544f-4819-81c4-cbc928d32226",
   "metadata": {
    "id": "03027a0c-544f-4819-81c4-cbc928d32226",
    "tags": [],
    "ExecuteTime": {
     "end_time": "2023-11-01T13:59:49.796735Z",
     "start_time": "2023-11-01T13:59:49.684989Z"
    }
   },
   "outputs": [
    {
     "data": {
      "text/plain": "2      0\n100    1\n122    1\n154    2\n51     0\nName: target, dtype: int64"
     },
     "execution_count": 47,
     "metadata": {},
     "output_type": "execute_result"
    }
   ],
   "source": [
    "y_train.head()"
   ]
  },
  {
   "cell_type": "code",
   "execution_count": 47,
   "id": "0a489075-b260-4e98-881c-f891e43227ca",
   "metadata": {
    "id": "0a489075-b260-4e98-881c-f891e43227ca",
    "ExecuteTime": {
     "end_time": "2023-11-01T13:59:49.797174Z",
     "start_time": "2023-11-01T13:59:49.688848Z"
    }
   },
   "outputs": [],
   "source": []
  },
  {
   "cell_type": "markdown",
   "id": "529722d7-ffb9-4fd5-9723-c0039e99b903",
   "metadata": {
    "id": "529722d7-ffb9-4fd5-9723-c0039e99b903"
   },
   "source": [
    "SVC will automatically use the One-vs-All strategy, so there's nothing special we need to do to handle multiple classes."
   ]
  },
  {
   "cell_type": "code",
   "execution_count": 48,
   "id": "a59d82fd-d975-4c70-a368-390c84e86f54",
   "metadata": {
    "tags": [],
    "id": "a59d82fd-d975-4c70-a368-390c84e86f54",
    "ExecuteTime": {
     "end_time": "2023-11-01T13:59:50.036997Z",
     "start_time": "2023-11-01T13:59:49.693330Z"
    }
   },
   "outputs": [
    {
     "data": {
      "text/plain": "SVC(C=1000, kernel='linear', random_state=42, tol=0.0001)",
      "text/html": "<style>#sk-container-id-4 {color: black;}#sk-container-id-4 pre{padding: 0;}#sk-container-id-4 div.sk-toggleable {background-color: white;}#sk-container-id-4 label.sk-toggleable__label {cursor: pointer;display: block;width: 100%;margin-bottom: 0;padding: 0.3em;box-sizing: border-box;text-align: center;}#sk-container-id-4 label.sk-toggleable__label-arrow:before {content: \"▸\";float: left;margin-right: 0.25em;color: #696969;}#sk-container-id-4 label.sk-toggleable__label-arrow:hover:before {color: black;}#sk-container-id-4 div.sk-estimator:hover label.sk-toggleable__label-arrow:before {color: black;}#sk-container-id-4 div.sk-toggleable__content {max-height: 0;max-width: 0;overflow: hidden;text-align: left;background-color: #f0f8ff;}#sk-container-id-4 div.sk-toggleable__content pre {margin: 0.2em;color: black;border-radius: 0.25em;background-color: #f0f8ff;}#sk-container-id-4 input.sk-toggleable__control:checked~div.sk-toggleable__content {max-height: 200px;max-width: 100%;overflow: auto;}#sk-container-id-4 input.sk-toggleable__control:checked~label.sk-toggleable__label-arrow:before {content: \"▾\";}#sk-container-id-4 div.sk-estimator input.sk-toggleable__control:checked~label.sk-toggleable__label {background-color: #d4ebff;}#sk-container-id-4 div.sk-label input.sk-toggleable__control:checked~label.sk-toggleable__label {background-color: #d4ebff;}#sk-container-id-4 input.sk-hidden--visually {border: 0;clip: rect(1px 1px 1px 1px);clip: rect(1px, 1px, 1px, 1px);height: 1px;margin: -1px;overflow: hidden;padding: 0;position: absolute;width: 1px;}#sk-container-id-4 div.sk-estimator {font-family: monospace;background-color: #f0f8ff;border: 1px dotted black;border-radius: 0.25em;box-sizing: border-box;margin-bottom: 0.5em;}#sk-container-id-4 div.sk-estimator:hover {background-color: #d4ebff;}#sk-container-id-4 div.sk-parallel-item::after {content: \"\";width: 100%;border-bottom: 1px solid gray;flex-grow: 1;}#sk-container-id-4 div.sk-label:hover label.sk-toggleable__label {background-color: #d4ebff;}#sk-container-id-4 div.sk-serial::before {content: \"\";position: absolute;border-left: 1px solid gray;box-sizing: border-box;top: 0;bottom: 0;left: 50%;z-index: 0;}#sk-container-id-4 div.sk-serial {display: flex;flex-direction: column;align-items: center;background-color: white;padding-right: 0.2em;padding-left: 0.2em;position: relative;}#sk-container-id-4 div.sk-item {position: relative;z-index: 1;}#sk-container-id-4 div.sk-parallel {display: flex;align-items: stretch;justify-content: center;background-color: white;position: relative;}#sk-container-id-4 div.sk-item::before, #sk-container-id-4 div.sk-parallel-item::before {content: \"\";position: absolute;border-left: 1px solid gray;box-sizing: border-box;top: 0;bottom: 0;left: 50%;z-index: -1;}#sk-container-id-4 div.sk-parallel-item {display: flex;flex-direction: column;z-index: 1;position: relative;background-color: white;}#sk-container-id-4 div.sk-parallel-item:first-child::after {align-self: flex-end;width: 50%;}#sk-container-id-4 div.sk-parallel-item:last-child::after {align-self: flex-start;width: 50%;}#sk-container-id-4 div.sk-parallel-item:only-child::after {width: 0;}#sk-container-id-4 div.sk-dashed-wrapped {border: 1px dashed gray;margin: 0 0.4em 0.5em 0.4em;box-sizing: border-box;padding-bottom: 0.4em;background-color: white;}#sk-container-id-4 div.sk-label label {font-family: monospace;font-weight: bold;display: inline-block;line-height: 1.2em;}#sk-container-id-4 div.sk-label-container {text-align: center;}#sk-container-id-4 div.sk-container {/* jupyter's `normalize.less` sets `[hidden] { display: none; }` but bootstrap.min.css set `[hidden] { display: none !important; }` so we also need the `!important` here to be able to override the default hidden behavior on the sphinx rendered scikit-learn.org. See: https://github.com/scikit-learn/scikit-learn/issues/21755 */display: inline-block !important;position: relative;}#sk-container-id-4 div.sk-text-repr-fallback {display: none;}</style><div id=\"sk-container-id-4\" class=\"sk-top-container\"><div class=\"sk-text-repr-fallback\"><pre>SVC(C=1000, kernel=&#x27;linear&#x27;, random_state=42, tol=0.0001)</pre><b>In a Jupyter environment, please rerun this cell to show the HTML representation or trust the notebook. <br />On GitHub, the HTML representation is unable to render, please try loading this page with nbviewer.org.</b></div><div class=\"sk-container\" hidden><div class=\"sk-item\"><div class=\"sk-estimator sk-toggleable\"><input class=\"sk-toggleable__control sk-hidden--visually\" id=\"sk-estimator-id-4\" type=\"checkbox\" checked><label for=\"sk-estimator-id-4\" class=\"sk-toggleable__label sk-toggleable__label-arrow\">SVC</label><div class=\"sk-toggleable__content\"><pre>SVC(C=1000, kernel=&#x27;linear&#x27;, random_state=42, tol=0.0001)</pre></div></div></div></div></div>"
     },
     "execution_count": 48,
     "metadata": {},
     "output_type": "execute_result"
    }
   ],
   "source": [
    "model = svm.SVC(kernel='linear', C=1000, tol=0.0001, random_state=42) # initialize the model\n",
    "model.fit(X_train, y_train) # fit the model = learn the decision boundaries"
   ]
  },
  {
   "cell_type": "markdown",
   "id": "53f54ec0-7d8a-49e0-8252-3309fa306d0f",
   "metadata": {
    "id": "53f54ec0-7d8a-49e0-8252-3309fa306d0f"
   },
   "source": [
    "Calulate the accuracy (cross validation score):"
   ]
  },
  {
   "cell_type": "code",
   "execution_count": 49,
   "id": "cb2a01f8-db95-41dd-b902-1336961a6794",
   "metadata": {
    "id": "cb2a01f8-db95-41dd-b902-1336961a6794",
    "ExecuteTime": {
     "end_time": "2023-11-01T13:59:50.095689Z",
     "start_time": "2023-11-01T13:59:49.832487Z"
    }
   },
   "outputs": [
    {
     "data": {
      "text/plain": "0.9555555555555555"
     },
     "execution_count": 49,
     "metadata": {},
     "output_type": "execute_result"
    }
   ],
   "source": [
    "from sklearn.model_selection import cross_val_score\n",
    "cross_val_score(model, X_test, y_test).mean()"
   ]
  },
  {
   "cell_type": "code",
   "execution_count": 49,
   "id": "86fe7142-507a-4c42-b795-002e1c1bf47b",
   "metadata": {
    "id": "86fe7142-507a-4c42-b795-002e1c1bf47b",
    "ExecuteTime": {
     "end_time": "2023-11-01T13:59:50.095866Z",
     "start_time": "2023-11-01T13:59:49.888158Z"
    }
   },
   "outputs": [],
   "source": []
  },
  {
   "cell_type": "code",
   "execution_count": null,
   "outputs": [],
   "source": [],
   "metadata": {
    "collapsed": false
   },
   "id": "c2a4555f9aef272"
  },
  {
   "cell_type": "markdown",
   "id": "60c4c092-c5d7-4410-b851-4b8e1895de21",
   "metadata": {
    "id": "60c4c092-c5d7-4410-b851-4b8e1895de21"
   },
   "source": [
    "## 📢 **HAND-IN** 📢:\n",
    "Report the accuracy that you reached in task 2A without feature scaling in Moodle"
   ]
  },
  {
   "cell_type": "code",
   "execution_count": 49,
   "id": "8f823f52-de0e-4d33-aad1-e28359ae53c7",
   "metadata": {
    "id": "8f823f52-de0e-4d33-aad1-e28359ae53c7",
    "ExecuteTime": {
     "end_time": "2023-11-01T13:59:50.095959Z",
     "start_time": "2023-11-01T13:59:49.892509Z"
    }
   },
   "outputs": [],
   "source": []
  },
  {
   "cell_type": "markdown",
   "id": "43ea63a7-f8ad-41c5-b1a3-389ccc83de24",
   "metadata": {
    "id": "43ea63a7-f8ad-41c5-b1a3-389ccc83de24"
   },
   "source": [
    "**Task 2B**: Which accuracy (cross validation score) can you reach when you standarize the features before training?  \n",
    "See https://scikit-learn.org/stable/modules/generated/sklearn.preprocessing.StandardScaler.html"
   ]
  },
  {
   "cell_type": "code",
   "execution_count": 50,
   "id": "53de78c0-df3c-4985-8efc-14ec466667d1",
   "metadata": {
    "id": "53de78c0-df3c-4985-8efc-14ec466667d1",
    "ExecuteTime": {
     "end_time": "2023-11-01T13:59:50.096100Z",
     "start_time": "2023-11-01T13:59:49.897017Z"
    }
   },
   "outputs": [
    {
     "data": {
      "text/plain": "0.9777777777777779"
     },
     "execution_count": 50,
     "metadata": {},
     "output_type": "execute_result"
    }
   ],
   "source": [
    "from sklearn.preprocessing import StandardScaler\n",
    "scaler = StandardScaler()\n",
    "X_train_scaled = scaler.fit_transform(X_train)\n",
    "X_test_scaled = scaler.transform(X_test)\n",
    "\n",
    "model = svm.SVC(kernel='linear', C=1000, tol=0.0001, random_state=42) # initialize the model\n",
    "model.fit(X_train_scaled, y_train) # fit the model = learn the decision boundaries\n",
    "\n",
    "cross_val_score(model, X_test_scaled, y_test).mean()"
   ]
  },
  {
   "cell_type": "code",
   "execution_count": 50,
   "id": "485c6513-4108-45cf-b82c-f3371d8f3796",
   "metadata": {
    "id": "485c6513-4108-45cf-b82c-f3371d8f3796",
    "ExecuteTime": {
     "end_time": "2023-11-01T13:59:50.096155Z",
     "start_time": "2023-11-01T13:59:49.904145Z"
    }
   },
   "outputs": [],
   "source": []
  },
  {
   "cell_type": "markdown",
   "id": "3d627b15-3dcb-4603-9fb7-5b010f638b44",
   "metadata": {
    "id": "3d627b15-3dcb-4603-9fb7-5b010f638b44"
   },
   "source": [
    "## 📢 **HAND-IN** 📢: Report the accuracy that you reached with feature standaridsation in Task 2B in Moodle"
   ]
  },
  {
   "cell_type": "code",
   "execution_count": 50,
   "id": "772a819d-dd9b-48e4-b6fe-f18246f3e93d",
   "metadata": {
    "id": "772a819d-dd9b-48e4-b6fe-f18246f3e93d",
    "ExecuteTime": {
     "end_time": "2023-11-01T13:59:50.096206Z",
     "start_time": "2023-11-01T13:59:49.905800Z"
    }
   },
   "outputs": [],
   "source": []
  }
 ],
 "metadata": {
  "kernelspec": {
   "display_name": "Python 3 (ipykernel)",
   "language": "python",
   "name": "python3"
  },
  "language_info": {
   "codemirror_mode": {
    "name": "ipython",
    "version": 3
   },
   "file_extension": ".py",
   "mimetype": "text/x-python",
   "name": "python",
   "nbconvert_exporter": "python",
   "pygments_lexer": "ipython3",
   "version": "3.8.17"
  },
  "colab": {
   "provenance": []
  }
 },
 "nbformat": 4,
 "nbformat_minor": 5
}
