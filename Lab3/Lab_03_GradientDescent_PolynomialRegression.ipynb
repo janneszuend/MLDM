{
 "cells": [
  {
   "cell_type": "code",
   "execution_count": 76,
   "metadata": {
    "id": "FZEco2HK6D57",
    "ExecuteTime": {
     "end_time": "2023-10-06T07:31:22.808549Z",
     "start_time": "2023-10-06T07:31:22.697109Z"
    }
   },
   "outputs": [],
   "source": [
    "import numpy as np\n",
    "import pandas as pd\n",
    "from matplotlib import pyplot as plt"
   ]
  },
  {
   "cell_type": "code",
   "execution_count": 77,
   "metadata": {
    "id": "a3nCUqopXHwv",
    "ExecuteTime": {
     "end_time": "2023-10-06T07:31:22.826662Z",
     "start_time": "2023-10-06T07:31:22.699880Z"
    }
   },
   "outputs": [],
   "source": [
    "RANDOM_SEED = 0x0"
   ]
  },
  {
   "cell_type": "markdown",
   "metadata": {
    "id": "jjTkUw7BWulH"
   },
   "source": [
    "# Lab 03: Gradient Descent and Polynomial Regression"
   ]
  },
  {
   "cell_type": "markdown",
   "metadata": {
    "id": "gNnZUk36Xz7_"
   },
   "source": [
    "For the first task, we will work with synthetic univariate data. This is the same data as in the previous Lab.\n",
    "We generate $100$ features $x_i \\in [-1, 1]$ as `x` and a regression target `y1`."
   ]
  },
  {
   "cell_type": "code",
   "execution_count": 78,
   "metadata": {
    "id": "Ojta777H2ulb",
    "ExecuteTime": {
     "end_time": "2023-10-06T07:31:22.840518Z",
     "start_time": "2023-10-06T07:31:22.708038Z"
    }
   },
   "outputs": [],
   "source": [
    "data_rng = np.random.default_rng(RANDOM_SEED)\n",
    "n = 100\n",
    "x = 2 * data_rng.random(n) - 1  # create n points between -1 and 1\n",
    "\n",
    "# setup synthetic linear data\n",
    "true_offset = 0.5\n",
    "true_slope = 1.25\n",
    "noise = data_rng.normal(loc=0., scale=0.25, size=(n,))\n",
    "\n",
    "y1 = true_offset + true_slope * x + noise"
   ]
  },
  {
   "cell_type": "markdown",
   "source": [
    "This is what the data looks like:"
   ],
   "metadata": {
    "id": "_ww1rAls1AN-"
   }
  },
  {
   "cell_type": "code",
   "execution_count": 79,
   "metadata": {
    "id": "MxYMdhfxyYAd",
    "ExecuteTime": {
     "end_time": "2023-10-06T07:31:22.939610Z",
     "start_time": "2023-10-06T07:31:22.713383Z"
    }
   },
   "outputs": [
    {
     "data": {
      "text/plain": "<Figure size 640x480 with 1 Axes>",
      "image/png": "[encoded data removed]"
     },
     "metadata": {},
     "output_type": "display_data"
    }
   ],
   "source": [
    "plt.scatter(x, y1)\n",
    "plt.xlabel(\"x\")\n",
    "plt.ylabel(\"y1\")\n",
    "plt.show()"
   ]
  },
  {
   "cell_type": "code",
   "source": [],
   "metadata": {
    "id": "xv-GgvWGxfql",
    "ExecuteTime": {
     "end_time": "2023-10-06T07:31:22.941620Z",
     "start_time": "2023-10-06T07:31:22.774857Z"
    }
   },
   "execution_count": 79,
   "outputs": []
  },
  {
   "cell_type": "markdown",
   "metadata": {
    "id": "YL31gChVqLpC"
   },
   "source": [
    "### 📢 Task 1a (3 points)📢\n",
    "\n",
    "In class you have seen that, instead of using the closed form solutions, we can also estimate the parameters $\\theta_i$ of the linear regression models by using Gradient Descent.\n",
    "\n",
    "For the univariate linear regression model, the stochastic gradient descent updates (from step t to t+1) look like this:\n",
    "* $\\theta_{0}^{(t+1)} = \\theta_{0}^{(t)} - \\alpha (\\theta_{0}^{(t)} + \\theta_{1}^{(t)} x_t - y_t)$\n",
    "* $\\theta_{1}^{(t+1)} = \\theta_{1}^{(t)} - \\alpha (\\theta_{0}^{(t)} + \\theta_{1}^{(t)} x_t - y_t) x_t$\n",
    "\n",
    "Here $\\alpha$ is the learning rate, and $(x_t, y_t)$ is the data point sampled\n",
    "at time $t$.\n",
    "\n",
    "\n",
    "In the following cell, implement the `.fit` and `.predict` methods:\n",
    "* In the `.predict` method, apply the model to the input `x`.\n",
    "* In the `.fit` method, implement the update equations for\n",
    "$\\theta_0$ and $\\theta_1$."
   ]
  },
  {
   "cell_type": "code",
   "execution_count": 80,
   "metadata": {
    "id": "wJMHvQmXmVKr",
    "ExecuteTime": {
     "end_time": "2023-10-06T07:31:22.943584Z",
     "start_time": "2023-10-06T07:31:22.778421Z"
    }
   },
   "outputs": [],
   "source": [
    "class SGDUnivariateLinearRegression:\n",
    "\n",
    "  def __init__(self):\n",
    "    self.theta_0: float = 0.\n",
    "    self.theta_1: float = 0.\n",
    "    self.rng = np.random.default_rng(RANDOM_SEED)\n",
    "\n",
    "  def predict(self, x):\n",
    "    # y = theta_0 + theta_1 * x\n",
    "    y = self.theta_0 + self.theta_1 * x\n",
    "    return y\n",
    "\n",
    "  def fit(self, x, y, n_iter: int = 100, learning_rate: float = 1.0):\n",
    "    for t in range(n_iter):\n",
    "      sample_ix = self.rng.integers(0, len(x))\n",
    "      \n",
    "      xt = x[sample_ix]\n",
    "      yt = y[sample_ix]\n",
    "      \n",
    "      # TODO: update self.theta_0 and self.theta_1 SIMULTANEOUSLY (!!!) according to their update equations\n",
    "      theta_old = self.theta_0\n",
    "      self.theta_0 = self.theta_0 - learning_rate * (self.theta_0 + self.theta_1 * xt - yt)\n",
    "      self.theta_1 = self.theta_1 - learning_rate * (theta_old + self.theta_1 * xt - yt) * xt\n",
    "      \n",
    "      #learning_rate = 1 / (t + 1)\n",
    "    return self"
   ]
  },
  {
   "cell_type": "markdown",
   "source": [
    "📢 **<mark>On Moodle</mark>** 📢\n",
    "\n",
    "* Hand in your code from the cell above."
   ],
   "metadata": {
    "id": "i_zwIMN3INHh"
   }
  },
  {
   "cell_type": "markdown",
   "metadata": {
    "id": "MHLBmTm4vK9p"
   },
   "source": [
    "### 📢 Task 1b (2 points)📢\n",
    "\n",
    "Run SGD for `x` and the target `y1` and compute the mean squared error (MSE).\n",
    "The MSE is defined as: $\\frac{1}{n}\\sum_{i=1}^{n} (\\hat{y}_i - y_i)^2$, where\n",
    "$\\hat{y}$ are the model predictions.\n",
    "\n",
    "* Create an instance of the class `SGDUnivariateLinearRegression`\n",
    "* fit the model using its `.fit` method\n",
    "* get the predicted values, using `.predict`\n",
    "* implement the `mse` function\n",
    "* compute the MSE of your predictions"
   ]
  },
  {
   "cell_type": "code",
   "execution_count": 81,
   "metadata": {
    "id": "CZ1szyQhK9so",
    "ExecuteTime": {
     "end_time": "2023-10-06T07:31:22.945895Z",
     "start_time": "2023-10-06T07:31:22.781442Z"
    }
   },
   "outputs": [],
   "source": [
    "def mse(y_pred, y_true):\n",
    "  #TODO\n",
    "  return 1 / len(y_pred) * np.sum((y_pred - y_true) ** 2)"
   ]
  },
  {
   "cell_type": "code",
   "execution_count": 82,
   "metadata": {
    "id": "V35vBU5Yti8Z",
    "ExecuteTime": {
     "end_time": "2023-10-06T07:31:22.968265Z",
     "start_time": "2023-10-06T07:31:22.785960Z"
    }
   },
   "outputs": [
    {
     "name": "stdout",
     "output_type": "stream",
     "text": [
      "0.23939987474527363\n"
     ]
    }
   ],
   "source": [
    "# TODO: implement fit an predict\n",
    "SGD = SGDUnivariateLinearRegression()\n",
    "SGD.fit(x, y1)\n",
    "y_pred = SGD.predict(x)\n",
    "MSE = mse(y_pred, y1)\n",
    "print(MSE)"
   ]
  },
  {
   "cell_type": "markdown",
   "source": [
    "📢 **<mark>On Moodle</mark>** 📢\n",
    "* Report the resulting Mean Squared Error"
   ],
   "metadata": {
    "id": "n_j0ybGFIoBE"
   }
  },
  {
   "cell_type": "markdown",
   "source": [
    "If you want to plot the resulting model, you can use the following function:"
   ],
   "metadata": {
    "id": "60862LLY2ZGf"
   }
  },
  {
   "cell_type": "code",
   "execution_count": 83,
   "metadata": {
    "id": "T0eKDuRt1YOF",
    "ExecuteTime": {
     "end_time": "2023-10-06T07:31:23.012236Z",
     "start_time": "2023-10-06T07:31:22.787550Z"
    }
   },
   "outputs": [
    {
     "data": {
      "text/plain": "<Figure size 640x480 with 1 Axes>",
      "image/png": "[encoded data removed]"
     },
     "metadata": {},
     "output_type": "display_data"
    }
   ],
   "source": [
    "def plot_model(x, y_pred, y_true, title):\n",
    "  plt.scatter(x, y_true)\n",
    "  plt.plot(x, y_pred, c=\"r\")\n",
    "  plt.xlabel(\"x\")\n",
    "  plt.ylabel(\"y\")\n",
    "  plt.title(title)\n",
    "  plt.show()\n",
    "\n",
    "plot_model(x, y_pred, y1, \"Model of Gradient Descent for y1\")"
   ]
  },
  {
   "cell_type": "markdown",
   "metadata": {
    "id": "hSsE1o6GwA3K"
   },
   "source": [
    "### 📢 Task 1c (4 points) 📢\n",
    "\n",
    "You will now plot the learning curves of gradient descent for different learning rates $\\alpha$.\n",
    "A learning curves shows how a model's performance changes with increasing number of update steps.\n",
    "In our case we will plot the model's MSE as a function of the number of update\n",
    "steps `n_iter` for different values of `learning_rate`.\n"
   ]
  },
  {
   "cell_type": "markdown",
   "source": [
    "For comparison, we first implement the closed form for univariate regression from previous lab:"
   ],
   "metadata": {
    "id": "x6nqOoOpzmMv"
   }
  },
  {
   "cell_type": "code",
   "source": [
    "class UnivariateLinearRegression:\n",
    "\n",
    "  def __init__(self):\n",
    "    self.theta_0: float = 0.\n",
    "    self.theta_1: float = 0.\n",
    "\n",
    "  def predict(self, x):\n",
    "    return self.theta_0 + self.theta_1 * x\n",
    "\n",
    "  def fit(self, x, y):\n",
    "    mean_x = np.mean(x)\n",
    "    mean_y = np.mean(y)\n",
    "\n",
    "    cent_x = x - mean_x\n",
    "    cent_y = y - mean_y\n",
    "\n",
    "    theta_1 = np.sum(cent_x * cent_y) / np.sum(cent_x * cent_x)\n",
    "    theta_0 = mean_y - theta_1 * mean_x\n",
    "\n",
    "    self.theta_1 = theta_1\n",
    "    self.theta_0 = theta_0\n",
    "\n",
    "    return self"
   ],
   "metadata": {
    "id": "gjK-QunEzkZF",
    "ExecuteTime": {
     "end_time": "2023-10-06T07:31:23.012414Z",
     "start_time": "2023-10-06T07:31:22.932021Z"
    }
   },
   "execution_count": 84,
   "outputs": []
  },
  {
   "cell_type": "code",
   "source": [
    "closed_form = UnivariateLinearRegression()\n",
    "y_pred = closed_form.fit(x, y1).predict(x)\n",
    "\n",
    "\n",
    "plot_model(x, y_pred, y1, \"Model of Gradient Descent for y1\")"
   ],
   "metadata": {
    "id": "M33V17233Ur7",
    "ExecuteTime": {
     "end_time": "2023-10-06T07:31:23.110831Z",
     "start_time": "2023-10-06T07:31:22.948157Z"
    }
   },
   "execution_count": 85,
   "outputs": [
    {
     "data": {
      "text/plain": "<Figure size 640x480 with 1 Axes>",
      "image/png": "[encoded data removed]"
     },
     "metadata": {},
     "output_type": "display_data"
    }
   ]
  },
  {
   "cell_type": "markdown",
   "source": [
    "\n",
    "In the following cell we setup most of the scaffold to create learning curves. A learning curve contains the MSE for different numbers of iterations, i.e. different number of updates of the parameters in θ.\n",
    "\n",
    "We will draw learning curves for different values of learning rate α (don't get confused with the duplicate usage of \"learning\" here. The first refers to the improvement of MSE over number of iterations, while the second influences how much we change values in θ in each step).\n",
    "\n",
    "Follow the instructions in the comments to finish the plots."
   ],
   "metadata": {
    "id": "j6W3hr76JKvD"
   }
  },
  {
   "cell_type": "code",
   "execution_count": 86,
   "metadata": {
    "id": "4Rr5ix7LNISB",
    "ExecuteTime": {
     "end_time": "2023-10-06T07:31:23.143080Z",
     "start_time": "2023-10-06T07:31:23.016178Z"
    }
   },
   "outputs": [
    {
     "data": {
      "text/plain": "<Figure size 640x480 with 1 Axes>",
      "image/png": "[encoded data removed]"
     },
     "metadata": {},
     "output_type": "display_data"
    }
   ],
   "source": [
    "n_iters = [50, 100, 200, 500, 1000, 2000]\n",
    "learning_rates = [1., .1, .01]\n",
    "\n",
    "# we plot the MSE achieved by the closed form model as a reference\n",
    "closed_form = UnivariateLinearRegression()\n",
    "closed_form.fit(x, y1)\n",
    "mse_base = mse(y_pred=closed_form.predict(x), y_true=y1)\n",
    "plt.plot(n_iters, np.ones_like(n_iters) * mse_base, label=\"closed form\", linestyle='--', c='b')\n",
    "\n",
    "for alpha in learning_rates:\n",
    "  mses = []\n",
    "  for n_iter in n_iters:\n",
    "    # fit a SGDUnivariateLinearRegression model using n_iter=n_iter and\n",
    "    # learning_rate=alpha\n",
    "    # compute its mse and append the mse value to the mses list\n",
    "    SGD = SGDUnivariateLinearRegression()\n",
    "    SGD.fit(x,y1, n_iter, alpha)\n",
    "    y_predicted = SGD.predict(x)\n",
    "    mse_ = mse(y_predicted, y1)  # replace with mse calculation\n",
    "    mses.append(mse_)\n",
    "  plt.plot(n_iters, mses, label=f\"alpha = {alpha:.2f}\")\n",
    "\n",
    "plt.xlabel(\"n_iter\")\n",
    "plt.ylabel(\"MSE\")\n",
    "plt.legend()\n",
    "plt.show()"
   ]
  },
  {
   "cell_type": "markdown",
   "metadata": {
    "id": "SmCkMMJyEEgV"
   },
   "source": [
    "📢 **<mark>On Moodle</mark>** 📢\n",
    "\n",
    "* The final plot containing the 3 learning curves\n",
    "* A short (2-3 sentences) interpretation of the curves: why do you think they look the way they do? Can you draw any conclusions?\n",
    "\n",
    "In case you were not able to arrive at the final plot:\n",
    "\n",
    "* include screenshots of the code you wrote so we can assign partial credit\n",
    "\n",
    "\n"
   ]
  },
  {
   "cell_type": "markdown",
   "metadata": {
    "id": "Ia9s_Q-KXf0T"
   },
   "source": [
    "# TASK 2: Polynomial Regression"
   ]
  },
  {
   "cell_type": "markdown",
   "metadata": {
    "id": "VV0Z3OdeXpha"
   },
   "source": [
    "We now switch to polynomial regression. First, let's create and explore some new synthetic data for this task:"
   ]
  },
  {
   "cell_type": "code",
   "execution_count": 87,
   "metadata": {
    "id": "nb5WsezldFla",
    "ExecuteTime": {
     "end_time": "2023-10-06T07:31:23.144697Z",
     "start_time": "2023-10-06T07:31:23.120743Z"
    }
   },
   "outputs": [],
   "source": [
    "# set the random seed to an integer, so that everyone has the same data to work with\n",
    "np.random.seed(seed=RANDOM_SEED)\n",
    "# create predictor variable that has a standard normal distribution, and reshape it in order to use it for the model training\n",
    "x = np.random.normal(0, 1, 100).reshape(-1, 1)\n",
    "# create target variable\n",
    "y = 3*x**3 + 2*x**2 + x + np.random.normal(0, 10, 100).reshape(-1, 1)"
   ]
  },
  {
   "cell_type": "markdown",
   "metadata": {
    "id": "E65IxT1Bwpmk"
   },
   "source": [
    "Visualise the data"
   ]
  },
  {
   "cell_type": "code",
   "execution_count": 88,
   "metadata": {
    "id": "nCZgTYP3fZe7",
    "ExecuteTime": {
     "end_time": "2023-10-06T07:31:23.280083Z",
     "start_time": "2023-10-06T07:31:23.135127Z"
    }
   },
   "outputs": [
    {
     "data": {
      "text/plain": "<Figure size 640x480 with 1 Axes>",
      "image/png": "[encoded data removed]"
     },
     "metadata": {},
     "output_type": "display_data"
    }
   ],
   "source": [
    "plt.scatter(x, y)\n",
    "plt.show()"
   ]
  },
  {
   "cell_type": "markdown",
   "metadata": {
    "id": "Cx8aSpUnJCI7"
   },
   "source": [
    "First, we try to fit a *Linear* Regression model to the data.\n",
    "\n",
    "For this, we first split the data into a train set and a test set (80% train, 20% test data)."
   ]
  },
  {
   "cell_type": "code",
   "execution_count": 89,
   "metadata": {
    "id": "ti7myWk7KS8Z",
    "ExecuteTime": {
     "end_time": "2023-10-06T07:31:28.849970Z",
     "start_time": "2023-10-06T07:31:23.186842Z"
    }
   },
   "outputs": [],
   "source": [
    "from sklearn.model_selection import train_test_split\n",
    "X_train, X_test, y_train, y_test = train_test_split(x, y, test_size=0.2, random_state=RANDOM_SEED)"
   ]
  },
  {
   "cell_type": "markdown",
   "metadata": {
    "id": "RFSaakYLJuK7"
   },
   "source": [
    "## Task 2a (1 point)\n",
    "1. Apply Linear Regression on the data and predict y values for training set as well for the test set."
   ]
  },
  {
   "cell_type": "code",
   "execution_count": 90,
   "metadata": {
    "id": "Ez6t4Q4P82Qo",
    "ExecuteTime": {
     "end_time": "2023-10-06T07:31:29.394707Z",
     "start_time": "2023-10-06T07:31:28.840859Z"
    }
   },
   "outputs": [],
   "source": [
    "from sklearn.linear_model import LinearRegression\n",
    "# TODO"
   ]
  },
  {
   "cell_type": "markdown",
   "metadata": {
    "id": "P1k6VBGk8yI6"
   },
   "source": [
    "2. Calculate MSE for training as well as for test data."
   ]
  },
  {
   "cell_type": "code",
   "execution_count": 91,
   "metadata": {
    "id": "qJGjXK8aKD8q",
    "ExecuteTime": {
     "end_time": "2023-10-06T07:31:29.434882Z",
     "start_time": "2023-10-06T07:31:29.401587Z"
    }
   },
   "outputs": [
    {
     "ename": "NameError",
     "evalue": "name 'mse_train' is not defined",
     "output_type": "error",
     "traceback": [
      "\u001B[0;31m---------------------------------------------------------------------------\u001B[0m",
      "\u001B[0;31mNameError\u001B[0m                                 Traceback (most recent call last)",
      "Cell \u001B[0;32mIn[91], line 5\u001B[0m\n\u001B[1;32m      1\u001B[0m \u001B[38;5;28;01mfrom\u001B[39;00m \u001B[38;5;21;01msklearn\u001B[39;00m\u001B[38;5;21;01m.\u001B[39;00m\u001B[38;5;21;01mmetrics\u001B[39;00m \u001B[38;5;28;01mimport\u001B[39;00m mean_squared_error\n\u001B[1;32m      3\u001B[0m \u001B[38;5;66;03m# TODO\u001B[39;00m\n\u001B[0;32m----> 5\u001B[0m \u001B[38;5;28mprint\u001B[39m(\u001B[38;5;124mf\u001B[39m\u001B[38;5;124m\"\u001B[39m\u001B[38;5;124mMSE of training data: \u001B[39m\u001B[38;5;132;01m{\u001B[39;00mmse_train\u001B[38;5;132;01m}\u001B[39;00m\u001B[38;5;124m\"\u001B[39m)\n\u001B[1;32m      6\u001B[0m \u001B[38;5;28mprint\u001B[39m(\u001B[38;5;124mf\u001B[39m\u001B[38;5;124m\"\u001B[39m\u001B[38;5;124mMSE of test data: \u001B[39m\u001B[38;5;132;01m{\u001B[39;00mmse_test\u001B[38;5;132;01m}\u001B[39;00m\u001B[38;5;124m\"\u001B[39m)\n",
      "\u001B[0;31mNameError\u001B[0m: name 'mse_train' is not defined"
     ]
    }
   ],
   "source": [
    "\n",
    "from sklearn.metrics import mean_squared_error\n",
    "\n",
    "# TODO\n",
    "\n",
    "print(f\"MSE of training data: {mse_train}\")\n",
    "print(f\"MSE of test data: {mse_test}\")"
   ]
  },
  {
   "cell_type": "markdown",
   "metadata": {
    "id": "T0VOmhngKEQL"
   },
   "source": [
    "3. Visualize the model. Plot all the data points als well as the regression model when applied to the training set and to the test set (in plt.scatter, you can set the color of points e.g. to red using \" color='r' \")."
   ]
  },
  {
   "cell_type": "code",
   "execution_count": null,
   "metadata": {
    "id": "yLwMEWirLLBA",
    "ExecuteTime": {
     "end_time": "2023-10-06T07:31:29.436296Z",
     "start_time": "2023-10-06T07:31:29.435964Z"
    }
   },
   "outputs": [],
   "source": [
    "# TODO"
   ]
  },
  {
   "cell_type": "markdown",
   "source": [
    "📢 **<mark>On Moodle</mark>** 📢\n",
    "\n",
    "Upload\n",
    "* your scatter plot"
   ],
   "metadata": {
    "id": "tC6BqZC5Pcja"
   }
  },
  {
   "cell_type": "markdown",
   "metadata": {
    "id": "zwsmpB3oMJZf"
   },
   "source": [
    "## Task 2b (2 points)\n",
    "\n",
    "You will now investigate how well polynomial regression with a polynomial of degree 2 can solve the task.\n",
    "\n",
    "\n"
   ]
  },
  {
   "cell_type": "markdown",
   "source": [
    "Recall that for polynomial regression, we introduce artificial variables $z_i$ and a new hypothesis $h(z) = \\theta_0 z_0 + \\theta_1 z_1 + \\theta_2 z_2 + \\theta_3 z_3 ...$, where each $z_i$ is a polynomial in $x$. One of the simplest hypothesis is quadratic, where we have $h(z) = \\theta_0 z_0 + \\theta_1 z_1 + \\theta_2 z_2$ with $z_0 = 1, z_1 = x$ and $z_2 = x^2$.\n",
    "\n",
    "In the following cell, implement polynomial regression with the quadratic hypothesis above, and plot the result."
   ],
   "metadata": {
    "id": "Mqj9E-PQErR-"
   }
  },
  {
   "cell_type": "code",
   "source": [
    "# TODO"
   ],
   "metadata": {
    "id": "dBRl5Yu5F5Cr",
    "ExecuteTime": {
     "end_time": "2023-10-06T07:31:29.436727Z",
     "start_time": "2023-10-06T07:31:29.436680Z"
    }
   },
   "execution_count": null,
   "outputs": []
  },
  {
   "cell_type": "markdown",
   "source": [
    "Plot the result\n"
   ],
   "metadata": {
    "id": "GF5b2e6aJmfl"
   }
  },
  {
   "cell_type": "code",
   "source": [
    "# TODO"
   ],
   "metadata": {
    "id": "9aZe6xHFJphT",
    "ExecuteTime": {
     "start_time": "2023-10-06T07:31:29.437782Z"
    }
   },
   "execution_count": null,
   "outputs": []
  },
  {
   "cell_type": "markdown",
   "source": [
    "Instead of implementing the polynomial transformation by hand, we can use [PolynomialFeatures.fit_transform](https://scikit-learn.org/stable/modules/preprocessing.html#polynomial-features) from sklearn, which generates the new features automatically.\n",
    "\n",
    "1. Transform the data accordingly to describe polynomial distribution of degree=2\n",
    "2. Train a Linear Regression model on polynomial data\n",
    "3. Make predictions for training data\n",
    "4. Make predictions for test data\n",
    "5. Calculate MSE for training as well as test data"
   ],
   "metadata": {
    "id": "zZjSeX5EE6Oh"
   }
  },
  {
   "cell_type": "code",
   "execution_count": null,
   "metadata": {
    "id": "oxni0o041MYH",
    "ExecuteTime": {
     "start_time": "2023-10-06T07:31:29.438654Z"
    }
   },
   "outputs": [],
   "source": [
    "from sklearn.preprocessing import PolynomialFeatures\n",
    "\n",
    "# TODO\n",
    "\n",
    "print(f\"MSE of training data: {mse_train_poly}\")\n",
    "print(f\"MSE of test data: {mse_test_poly}\")"
   ]
  },
  {
   "cell_type": "markdown",
   "metadata": {
    "id": "nhbIv-toOFoV"
   },
   "source": [
    "Did it perform better than Linear Regression? Visualize the results."
   ]
  },
  {
   "cell_type": "code",
   "execution_count": null,
   "metadata": {
    "id": "yFNrIwDuOUXo",
    "ExecuteTime": {
     "start_time": "2023-10-06T07:31:29.439657Z"
    }
   },
   "outputs": [],
   "source": [
    "# TODO"
   ]
  },
  {
   "cell_type": "markdown",
   "source": [
    "📢 **<mark>On Moodle</mark>** 📢\n",
    "\n",
    "Upload your scatter plot\n"
   ],
   "metadata": {
    "id": "2sYVU9lQPxXD"
   }
  },
  {
   "cell_type": "markdown",
   "metadata": {
    "id": "lR_v9mTWOVNj"
   },
   "source": [
    "## Task 2c (4 point)\n",
    "Finally, we investigate the influence of the polynomial degree on the results. Consider degrees in range(0, 11). Plot MSE (on training as well as test data) depending on the polynomial degree."
   ]
  },
  {
   "cell_type": "code",
   "execution_count": null,
   "metadata": {
    "id": "4YFTQqWZO_Jx",
    "ExecuteTime": {
     "start_time": "2023-10-06T07:31:29.440337Z"
    }
   },
   "outputs": [],
   "source": [
    "# TODO"
   ]
  },
  {
   "cell_type": "markdown",
   "metadata": {
    "id": "Y6QpfImYEI1l"
   },
   "source": [
    "📢 **<mark>On Moodle</mark>** 📢\n",
    "\n",
    "* Upload your plot of MSE for training and test data\n",
    "\n",
    "* Answer the following three questions in a text:\n",
    "1. What is the optimal value of the polynomial degrees?\n",
    "2. Do the values of MSE training and MSE test behave similarly?\n",
    "3. What happens in the models with polynomial degrees >= 8?\n"
   ]
  },
  {
   "cell_type": "code",
   "source": [],
   "metadata": {
    "id": "0BJrUzpkQc94",
    "ExecuteTime": {
     "start_time": "2023-10-06T07:31:29.440944Z"
    }
   },
   "execution_count": null,
   "outputs": []
  }
 ],
 "metadata": {
  "colab": {
   "private_outputs": true,
   "provenance": []
  },
  "kernelspec": {
   "name": "python3",
   "language": "python",
   "display_name": "Python 3 (ipykernel)"
  },
  "language_info": {
   "codemirror_mode": {
    "name": "ipython",
    "version": 3
   },
   "file_extension": ".py",
   "mimetype": "text/x-python",
   "name": "python",
   "nbconvert_exporter": "python",
   "pygments_lexer": "ipython3",
   "version": "3.10.9"
  }
 },
 "nbformat": 4,
 "nbformat_minor": 0
}
